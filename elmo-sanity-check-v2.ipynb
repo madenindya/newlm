{
 "cells": [
  {
   "cell_type": "markdown",
   "id": "unknown-tanzania",
   "metadata": {},
   "source": [
    "## Prepare Data + Model"
   ]
  },
  {
   "cell_type": "code",
   "execution_count": null,
   "id": "composed-pennsylvania",
   "metadata": {},
   "outputs": [],
   "source": [
    "!cat examples/data/text_forward.txt"
   ]
  },
  {
   "cell_type": "code",
   "execution_count": null,
   "id": "detected-permission",
   "metadata": {},
   "outputs": [],
   "source": [
    "!ls -al /mnt/data4/made_workspace/newlm-output/elmo-bert-causal-en.1-percent-rerun/model"
   ]
  },
  {
   "cell_type": "code",
   "execution_count": null,
   "id": "lightweight-african",
   "metadata": {},
   "outputs": [],
   "source": []
  },
  {
   "cell_type": "code",
   "execution_count": null,
   "id": "silent-paint",
   "metadata": {},
   "outputs": [],
   "source": [
    "import torch\n",
    "from newlm.lm.elmo.modeling_elmo.elmo_head import ELMOBertLMHeadModel\n",
    "from newlm.lm.elmo.lm_builder import ELMOLMBuilder\n",
    "from transformers import BertConfig"
   ]
  },
  {
   "cell_type": "markdown",
   "id": "terminal-denver",
   "metadata": {},
   "source": [
    "#### Model"
   ]
  },
  {
   "cell_type": "code",
   "execution_count": null,
   "id": "final-punch",
   "metadata": {},
   "outputs": [],
   "source": [
    "model = ELMOBertLMHeadModel.from_pretrained(\n",
    "    \"/mnt/data4/made_workspace/newlm-output/elmo-bert-causal-en.1-percent-rerun/model\"\n",
    ")"
   ]
  },
  {
   "cell_type": "code",
   "execution_count": null,
   "id": "irish-warner",
   "metadata": {},
   "outputs": [],
   "source": [
    "model.eval()\n",
    "print(\"Model in eval mode for consistency\")"
   ]
  },
  {
   "cell_type": "code",
   "execution_count": null,
   "id": "amber-belize",
   "metadata": {},
   "outputs": [],
   "source": []
  },
  {
   "cell_type": "markdown",
   "id": "wooden-official",
   "metadata": {},
   "source": [
    "#### Data"
   ]
  },
  {
   "cell_type": "code",
   "execution_count": null,
   "id": "joined-logan",
   "metadata": {},
   "outputs": [],
   "source": [
    "%%capture\n",
    "\n",
    "from newlm.utils.file_util import read_from_yaml\n",
    "# lm builder (helper)\n",
    "elmo_lm_builder = ELMOLMBuilder(\n",
    "    model_config = read_from_yaml('examples/configs/run.1-percent-bert-causal.yaml'),\n",
    "    tokenizer=\"/mnt/data4/made_workspace/newlm-output/elmo-bert-causal-en.1-percent-rerun/model\",\n",
    "    model_type=\"bert-causal-elmo\"\n",
    ")\n",
    "\n",
    "# dataset-forward\n",
    "train_path = \"./examples/data/text_forward.txt\"\n",
    "ds_f = elmo_lm_builder._get_dataset(train_path)"
   ]
  },
  {
   "cell_type": "code",
   "execution_count": null,
   "id": "unexpected-garage",
   "metadata": {},
   "outputs": [],
   "source": [
    "# trainer (helper)\n",
    "from transformers import TrainingArguments, Trainer\n",
    "args = TrainingArguments(output_dir=\"tmpout\",**config_file['lm']['hf_trainer']['args'])\n",
    "\n",
    "# dataloader-forward\n",
    "trainer = Trainer(model=model, args=args, data_collator=elmo_lm_builder.data_collator, train_dataset=ds_f,)\n",
    "dl_f = trainer.get_train_dataloader() # Data Loader-forward"
   ]
  },
  {
   "cell_type": "code",
   "execution_count": null,
   "id": "weekly-approval",
   "metadata": {},
   "outputs": [],
   "source": [
    "batch_f = next(iter(dl_f))\n",
    "batch_f['input_ids'].shape"
   ]
  },
  {
   "cell_type": "code",
   "execution_count": null,
   "id": "alert-island",
   "metadata": {},
   "outputs": [],
   "source": []
  },
  {
   "cell_type": "markdown",
   "id": "adjusted-evans",
   "metadata": {},
   "source": [
    "## Sanity Check"
   ]
  },
  {
   "cell_type": "code",
   "execution_count": null,
   "id": "naughty-staff",
   "metadata": {},
   "outputs": [],
   "source": [
    "# batch_f"
   ]
  },
  {
   "cell_type": "code",
   "execution_count": null,
   "id": "awful-stack",
   "metadata": {},
   "outputs": [],
   "source": [
    "import torch\n",
    "\n",
    "# reverse input\n",
    "batch_f_input = torch.clone(batch_f['input_ids'])\n",
    "batch_f_rev_input = torch.cat(\n",
    "    (\n",
    "        batch_f_input[0][0:1],\n",
    "        torch.flip(batch_f_input[0][1:-1], [0]),\n",
    "        batch_f_input[0][-1:]\n",
    "    )\n",
    ")\n",
    "batch_f_rev_input = batch_f_rev_input.reshape(1,-1)\n",
    "\n",
    "# reverse labels\n",
    "batch_f_labels = torch.clone(batch_f['labels'])\n",
    "batch_f_rev_labels = torch.cat(\n",
    "    (\n",
    "        batch_f_labels[0][0:1],\n",
    "        torch.flip(batch_f_labels[0][1:-1], [0]),\n",
    "        batch_f_labels[0][-1:]\n",
    "    )\n",
    ")\n",
    "batch_f_rev_labels = batch_f_rev_labels.reshape(1,-1)\n",
    "\n",
    "batch_rev = batch_f.copy()\n",
    "batch_rev['input_ids'] = batch_f_rev_input\n",
    "batch_rev['labels'] = batch_f_rev_labels"
   ]
  },
  {
   "cell_type": "code",
   "execution_count": null,
   "id": "identified-airport",
   "metadata": {},
   "outputs": [],
   "source": [
    "tokens_f = elmo_lm_builder.tokenizer.convert_ids_to_tokens(batch_f['input_ids'][0])\n",
    "tokens_f_rev = elmo_lm_builder.tokenizer.convert_ids_to_tokens(batch_rev['input_ids'][0])\n",
    "\n",
    "import pandas as pd\n",
    "pd.DataFrame({\"forward\": tokens_f, \"reverse\": tokens_f_rev})"
   ]
  },
  {
   "cell_type": "code",
   "execution_count": null,
   "id": "greenhouse-veteran",
   "metadata": {},
   "outputs": [],
   "source": [
    "batch_f['input_ids'].shape, batch_rev['input_ids'].shape"
   ]
  },
  {
   "cell_type": "code",
   "execution_count": null,
   "id": "portuguese-croatia",
   "metadata": {},
   "outputs": [],
   "source": [
    "res = model(**batch_f) # forward"
   ]
  },
  {
   "cell_type": "code",
   "execution_count": null,
   "id": "precious-greeting",
   "metadata": {},
   "outputs": [],
   "source": [
    "res = model(**batch_rev) # reverse"
   ]
  },
  {
   "cell_type": "code",
   "execution_count": null,
   "id": "random-prophet",
   "metadata": {},
   "outputs": [],
   "source": []
  }
 ],
 "metadata": {
  "kernelspec": {
   "display_name": "Python 3",
   "language": "python",
   "name": "python3"
  },
  "language_info": {
   "codemirror_mode": {
    "name": "ipython",
    "version": 3
   },
   "file_extension": ".py",
   "mimetype": "text/x-python",
   "name": "python",
   "nbconvert_exporter": "python",
   "pygments_lexer": "ipython3",
   "version": "3.8.8"
  }
 },
 "nbformat": 4,
 "nbformat_minor": 5
}
