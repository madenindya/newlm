{
 "cells": [
  {
   "cell_type": "markdown",
   "id": "imposed-conducting",
   "metadata": {},
   "source": [
    "## Prepare Data + Model"
   ]
  },
  {
   "cell_type": "code",
   "execution_count": 1,
   "id": "tracked-roads",
   "metadata": {},
   "outputs": [],
   "source": [
    "# !cat examples/data/text_forward.txt"
   ]
  },
  {
   "cell_type": "code",
   "execution_count": 2,
   "id": "adjusted-inquiry",
   "metadata": {},
   "outputs": [],
   "source": [
    "# !ls -al ./outputs/en.1-percent.elmo-bert-causal"
   ]
  },
  {
   "cell_type": "code",
   "execution_count": null,
   "id": "following-tomorrow",
   "metadata": {},
   "outputs": [],
   "source": []
  },
  {
   "cell_type": "code",
   "execution_count": 3,
   "id": "grave-interference",
   "metadata": {},
   "outputs": [],
   "source": [
    "import torch\n",
    "from newlm.lm.elmo.modeling_elmo.elmo_head import ELMOBertLMHeadModel\n",
    "from newlm.lm.elmo.lm_builder import ELMOLMBuilder\n",
    "from transformers import BertConfig"
   ]
  },
  {
   "cell_type": "markdown",
   "id": "hourly-penetration",
   "metadata": {},
   "source": [
    "#### Model"
   ]
  },
  {
   "cell_type": "code",
   "execution_count": 4,
   "id": "practical-truth",
   "metadata": {},
   "outputs": [],
   "source": [
    "model = ELMOBertLMHeadModel.from_pretrained(\n",
    "    \"./outputs/en.1-percent.elmo-bert-causal\"\n",
    ") # use pre-trained model"
   ]
  },
  {
   "cell_type": "code",
   "execution_count": 5,
   "id": "immediate-bargain",
   "metadata": {},
   "outputs": [
    {
     "name": "stdout",
     "output_type": "stream",
     "text": [
      "Model in eval mode for consistency\n"
     ]
    }
   ],
   "source": [
    "model.eval()\n",
    "print(\"Model in eval mode for consistency\")"
   ]
  },
  {
   "cell_type": "code",
   "execution_count": null,
   "id": "naughty-moore",
   "metadata": {},
   "outputs": [],
   "source": []
  },
  {
   "cell_type": "markdown",
   "id": "executive-extent",
   "metadata": {},
   "source": [
    "#### Data"
   ]
  },
  {
   "cell_type": "code",
   "execution_count": 6,
   "id": "level-mediterranean",
   "metadata": {},
   "outputs": [
    {
     "name": "stderr",
     "output_type": "stream",
     "text": [
      "2021-11-12 10:52:53.587 | INFO     | newlm.lm.elmo.lm_builder:_get_dataset:142 - Constructing roBERTa style dataset\n"
     ]
    }
   ],
   "source": [
    "%%capture\n",
    "\n",
    "from newlm.utils.file_util import read_from_yaml\n",
    "config_file = read_from_yaml('examples/configs/run.1-percent-elmo-bert-causal.yaml')\n",
    "\n",
    "# lm builder (helper)\n",
    "elmo_lm_builder = ELMOLMBuilder(\n",
    "    model_config = config_file['lm']['model']['config'],\n",
    "    tokenizer=\"./outputs/en.1-percent.elmo-bert-causal\", # use pre-trained tokenizer\n",
    "    model_type=\"bert-causal-elmo\",\n",
    "    max_len=128\n",
    ")\n",
    "\n",
    "# dataset-forward\n",
    "train_path = \"./examples/data/text_forward-small.txt\"\n",
    "ds_f = elmo_lm_builder._get_dataset(train_path)"
   ]
  },
  {
   "cell_type": "code",
   "execution_count": 8,
   "id": "governing-industry",
   "metadata": {},
   "outputs": [
    {
     "name": "stderr",
     "output_type": "stream",
     "text": [
      "max_steps is given, it will override any value given in num_train_epochs\n"
     ]
    }
   ],
   "source": [
    "# trainer (helper)\n",
    "from transformers import TrainingArguments, Trainer\n",
    "args = TrainingArguments(output_dir=\"tmpout\",**config_file['lm']['hf_trainer']['args'])\n",
    "\n",
    "# dataloader-forward\n",
    "trainer = Trainer(model=model, args=args, data_collator=elmo_lm_builder.data_collator, train_dataset=ds_f,)\n",
    "dl_f = trainer.get_train_dataloader() # Data Loader-forward"
   ]
  },
  {
   "cell_type": "code",
   "execution_count": 9,
   "id": "timely-bobby",
   "metadata": {},
   "outputs": [
    {
     "data": {
      "text/plain": [
       "torch.Size([1, 127])"
      ]
     },
     "execution_count": 9,
     "metadata": {},
     "output_type": "execute_result"
    }
   ],
   "source": [
    "batch_f = next(iter(dl_f))\n",
    "batch_f['input_ids'].shape"
   ]
  },
  {
   "cell_type": "code",
   "execution_count": null,
   "id": "sized-description",
   "metadata": {},
   "outputs": [],
   "source": []
  },
  {
   "cell_type": "code",
   "execution_count": 10,
   "id": "charming-directive",
   "metadata": {},
   "outputs": [
    {
     "name": "stdout",
     "output_type": "stream",
     "text": [
      "Model in eval mode for consistency\n"
     ]
    }
   ],
   "source": [
    "model.eval()\n",
    "print(\"Model in eval mode for consistency\")"
   ]
  },
  {
   "cell_type": "markdown",
   "id": "mighty-generator",
   "metadata": {},
   "source": [
    "## Sanity Check"
   ]
  },
  {
   "cell_type": "code",
   "execution_count": 1,
   "id": "saving-member",
   "metadata": {},
   "outputs": [],
   "source": [
    "# batch_f"
   ]
  },
  {
   "cell_type": "code",
   "execution_count": 12,
   "id": "colored-newman",
   "metadata": {},
   "outputs": [],
   "source": [
    "import torch\n",
    "\n",
    "def reverse_batch(batch_f):\n",
    "    # reverse input\n",
    "    batch_f_input = torch.clone(batch_f['input_ids'])\n",
    "    batch_f_rev_input = torch.cat(\n",
    "        (\n",
    "            batch_f_input[0][0:1],\n",
    "            torch.flip(batch_f_input[0][1:-1], [0]),\n",
    "            batch_f_input[0][-1:]\n",
    "        )\n",
    "    )\n",
    "    batch_f_rev_input = batch_f_rev_input.reshape(1,-1)\n",
    "\n",
    "    # reverse labels\n",
    "    batch_f_rev_labels = torch.clone(batch_f_rev_input)\n",
    "    \n",
    "    # batch_rev\n",
    "    batch_rev = batch_f.copy()\n",
    "    batch_rev['input_ids'] = batch_f_rev_input\n",
    "    batch_rev['labels'] = batch_f_rev_labels\n",
    "    \n",
    "    return batch_rev"
   ]
  },
  {
   "cell_type": "code",
   "execution_count": 13,
   "id": "affiliated-bangkok",
   "metadata": {},
   "outputs": [],
   "source": [
    "import pandas as pd\n",
    "\n",
    "def pandas_check(batch_f, batch_rev):\n",
    "    tokens_f = elmo_lm_builder.tokenizer.convert_ids_to_tokens(batch_f['input_ids'][0])\n",
    "    tokens_f_rev = elmo_lm_builder.tokenizer.convert_ids_to_tokens(batch_rev['input_ids'][0])\n",
    "    return pd.DataFrame({\"forward\": tokens_f, \"reverse\": tokens_f_rev})"
   ]
  },
  {
   "cell_type": "code",
   "execution_count": null,
   "id": "durable-brass",
   "metadata": {},
   "outputs": [],
   "source": []
  },
  {
   "cell_type": "markdown",
   "id": "automated-cheese",
   "metadata": {},
   "source": [
    "#### Normal vs Reverse"
   ]
  },
  {
   "cell_type": "code",
   "execution_count": 14,
   "id": "infinite-liberty",
   "metadata": {},
   "outputs": [],
   "source": [
    "batch_rev = reverse_batch(batch_f)"
   ]
  },
  {
   "cell_type": "code",
   "execution_count": 15,
   "id": "weird-analyst",
   "metadata": {},
   "outputs": [
    {
     "data": {
      "text/html": [
       "<div>\n",
       "<style scoped>\n",
       "    .dataframe tbody tr th:only-of-type {\n",
       "        vertical-align: middle;\n",
       "    }\n",
       "\n",
       "    .dataframe tbody tr th {\n",
       "        vertical-align: top;\n",
       "    }\n",
       "\n",
       "    .dataframe thead th {\n",
       "        text-align: right;\n",
       "    }\n",
       "</style>\n",
       "<table border=\"1\" class=\"dataframe\">\n",
       "  <thead>\n",
       "    <tr style=\"text-align: right;\">\n",
       "      <th></th>\n",
       "      <th>forward</th>\n",
       "      <th>reverse</th>\n",
       "    </tr>\n",
       "  </thead>\n",
       "  <tbody>\n",
       "    <tr>\n",
       "      <th>0</th>\n",
       "      <td>[CLS]</td>\n",
       "      <td>[CLS]</td>\n",
       "    </tr>\n",
       "    <tr>\n",
       "      <th>1</th>\n",
       "      <td>R</td>\n",
       "      <td>.</td>\n",
       "    </tr>\n",
       "    <tr>\n",
       "      <th>2</th>\n",
       "      <td>##ø</td>\n",
       "      <td>Jews</td>\n",
       "    </tr>\n",
       "    <tr>\n",
       "      <th>3</th>\n",
       "      <td>##d</td>\n",
       "      <td>among</td>\n",
       "    </tr>\n",
       "    <tr>\n",
       "      <th>4</th>\n",
       "      <td>##berg</td>\n",
       "      <td>lived</td>\n",
       "    </tr>\n",
       "    <tr>\n",
       "      <th>...</th>\n",
       "      <td>...</td>\n",
       "      <td>...</td>\n",
       "    </tr>\n",
       "    <tr>\n",
       "      <th>122</th>\n",
       "      <td>lived</td>\n",
       "      <td>##berg</td>\n",
       "    </tr>\n",
       "    <tr>\n",
       "      <th>123</th>\n",
       "      <td>among</td>\n",
       "      <td>##d</td>\n",
       "    </tr>\n",
       "    <tr>\n",
       "      <th>124</th>\n",
       "      <td>Jews</td>\n",
       "      <td>##ø</td>\n",
       "    </tr>\n",
       "    <tr>\n",
       "      <th>125</th>\n",
       "      <td>.</td>\n",
       "      <td>R</td>\n",
       "    </tr>\n",
       "    <tr>\n",
       "      <th>126</th>\n",
       "      <td>[SEP]</td>\n",
       "      <td>[SEP]</td>\n",
       "    </tr>\n",
       "  </tbody>\n",
       "</table>\n",
       "<p>127 rows × 2 columns</p>\n",
       "</div>"
      ],
      "text/plain": [
       "    forward reverse\n",
       "0     [CLS]   [CLS]\n",
       "1         R       .\n",
       "2       ##ø    Jews\n",
       "3       ##d   among\n",
       "4    ##berg   lived\n",
       "..      ...     ...\n",
       "122   lived  ##berg\n",
       "123   among     ##d\n",
       "124    Jews     ##ø\n",
       "125       .       R\n",
       "126   [SEP]   [SEP]\n",
       "\n",
       "[127 rows x 2 columns]"
      ]
     },
     "execution_count": 15,
     "metadata": {},
     "output_type": "execute_result"
    }
   ],
   "source": [
    "pandas_check(batch_f, batch_rev)"
   ]
  },
  {
   "cell_type": "code",
   "execution_count": 16,
   "id": "conscious-synthetic",
   "metadata": {},
   "outputs": [
    {
     "data": {
      "text/plain": [
       "(torch.Size([1, 127]), torch.Size([1, 127]))"
      ]
     },
     "execution_count": 16,
     "metadata": {},
     "output_type": "execute_result"
    }
   ],
   "source": [
    "batch_f['input_ids'].shape, batch_rev['input_ids'].shape"
   ]
  },
  {
   "cell_type": "code",
   "execution_count": 17,
   "id": "great-saturn",
   "metadata": {},
   "outputs": [
    {
     "name": "stdout",
     "output_type": "stream",
     "text": [
      "l2r_loss tensor(4.3262, grad_fn=<NllLossBackward>)\n",
      "r2l_loss tensor(6.8976, grad_fn=<NllLossBackward>)\n"
     ]
    }
   ],
   "source": [
    "res = model(**batch_f) # forward"
   ]
  },
  {
   "cell_type": "code",
   "execution_count": 18,
   "id": "balanced-convention",
   "metadata": {},
   "outputs": [
    {
     "name": "stdout",
     "output_type": "stream",
     "text": [
      "l2r_loss tensor(9.2779, grad_fn=<NllLossBackward>)\n",
      "r2l_loss tensor(6.5343, grad_fn=<NllLossBackward>)\n"
     ]
    }
   ],
   "source": [
    "res = model(**batch_rev) # reverse"
   ]
  },
  {
   "cell_type": "code",
   "execution_count": null,
   "id": "regulation-found",
   "metadata": {},
   "outputs": [],
   "source": []
  },
  {
   "cell_type": "markdown",
   "id": "revolutionary-procedure",
   "metadata": {},
   "source": [
    "#### Random String"
   ]
  },
  {
   "cell_type": "code",
   "execution_count": 24,
   "id": "crude-dodge",
   "metadata": {},
   "outputs": [
    {
     "data": {
      "text/plain": [
       "torch.Size([1, 127])"
      ]
     },
     "execution_count": 24,
     "metadata": {},
     "output_type": "execute_result"
    }
   ],
   "source": [
    "batch_f['input_ids'].shape"
   ]
  },
  {
   "cell_type": "code",
   "execution_count": 29,
   "id": "resident-opinion",
   "metadata": {},
   "outputs": [],
   "source": [
    "# shuffle data\n",
    "batch_f_input = batch_f['input_ids']\n",
    "batch_shuffle_input = torch.cat(\n",
    "    (\n",
    "        batch_f_input[0][0:1],\n",
    "        torch.randint(\n",
    "            low=5, # 0-4 > ['[PAD]', '[UNK]', '[CLS]', '[SEP]', '[MASK]']\n",
    "            high=29999,\n",
    "            size=(125,), # modified based on seqlen!\n",
    "            dtype=torch.long\n",
    "        ),\n",
    "        batch_f_input[0][-1:]\n",
    "    )\n",
    ")\n",
    "batch_shuffle_input = batch_shuffle_input.reshape(1,-1)\n",
    "# labels\n",
    "batch_shuffle_labels = torch.clone(batch_shuffle_input)    \n",
    "# batch_shuffle\n",
    "batch_shuffle = batch_f.copy()\n",
    "batch_shuffle['input_ids'] = batch_shuffle_input\n",
    "batch_shuffle['labels'] = batch_shuffle_labels"
   ]
  },
  {
   "cell_type": "code",
   "execution_count": 30,
   "id": "better-hamburg",
   "metadata": {},
   "outputs": [],
   "source": [
    "batch_shuffle_rev = reverse_batch(batch_shuffle)"
   ]
  },
  {
   "cell_type": "code",
   "execution_count": null,
   "id": "conscious-ancient",
   "metadata": {},
   "outputs": [],
   "source": []
  },
  {
   "cell_type": "markdown",
   "id": "common-breed",
   "metadata": {},
   "source": [
    "##### Trial-1"
   ]
  },
  {
   "cell_type": "code",
   "execution_count": 21,
   "id": "swiss-regression",
   "metadata": {},
   "outputs": [
    {
     "data": {
      "text/html": [
       "<div>\n",
       "<style scoped>\n",
       "    .dataframe tbody tr th:only-of-type {\n",
       "        vertical-align: middle;\n",
       "    }\n",
       "\n",
       "    .dataframe tbody tr th {\n",
       "        vertical-align: top;\n",
       "    }\n",
       "\n",
       "    .dataframe thead th {\n",
       "        text-align: right;\n",
       "    }\n",
       "</style>\n",
       "<table border=\"1\" class=\"dataframe\">\n",
       "  <thead>\n",
       "    <tr style=\"text-align: right;\">\n",
       "      <th></th>\n",
       "      <th>forward</th>\n",
       "      <th>reverse</th>\n",
       "    </tr>\n",
       "  </thead>\n",
       "  <tbody>\n",
       "    <tr>\n",
       "      <th>0</th>\n",
       "      <td>[CLS]</td>\n",
       "      <td>[CLS]</td>\n",
       "    </tr>\n",
       "    <tr>\n",
       "      <th>1</th>\n",
       "      <td>escaped</td>\n",
       "      <td>marriage</td>\n",
       "    </tr>\n",
       "    <tr>\n",
       "      <th>2</th>\n",
       "      <td>Develop</td>\n",
       "      <td>circulated</td>\n",
       "    </tr>\n",
       "    <tr>\n",
       "      <th>3</th>\n",
       "      <td>elb</td>\n",
       "      <td>ъ</td>\n",
       "    </tr>\n",
       "    <tr>\n",
       "      <th>4</th>\n",
       "      <td>Madame</td>\n",
       "      <td>Regional</td>\n",
       "    </tr>\n",
       "    <tr>\n",
       "      <th>...</th>\n",
       "      <td>...</td>\n",
       "      <td>...</td>\n",
       "    </tr>\n",
       "    <tr>\n",
       "      <th>122</th>\n",
       "      <td>Regional</td>\n",
       "      <td>Madame</td>\n",
       "    </tr>\n",
       "    <tr>\n",
       "      <th>123</th>\n",
       "      <td>ъ</td>\n",
       "      <td>elb</td>\n",
       "    </tr>\n",
       "    <tr>\n",
       "      <th>124</th>\n",
       "      <td>circulated</td>\n",
       "      <td>Develop</td>\n",
       "    </tr>\n",
       "    <tr>\n",
       "      <th>125</th>\n",
       "      <td>marriage</td>\n",
       "      <td>escaped</td>\n",
       "    </tr>\n",
       "    <tr>\n",
       "      <th>126</th>\n",
       "      <td>[SEP]</td>\n",
       "      <td>[SEP]</td>\n",
       "    </tr>\n",
       "  </tbody>\n",
       "</table>\n",
       "<p>127 rows × 2 columns</p>\n",
       "</div>"
      ],
      "text/plain": [
       "        forward     reverse\n",
       "0         [CLS]       [CLS]\n",
       "1       escaped    marriage\n",
       "2       Develop  circulated\n",
       "3           elb           ъ\n",
       "4        Madame    Regional\n",
       "..          ...         ...\n",
       "122    Regional      Madame\n",
       "123           ъ         elb\n",
       "124  circulated     Develop\n",
       "125    marriage     escaped\n",
       "126       [SEP]       [SEP]\n",
       "\n",
       "[127 rows x 2 columns]"
      ]
     },
     "execution_count": 21,
     "metadata": {},
     "output_type": "execute_result"
    }
   ],
   "source": [
    "pandas_check(batch_shuffle, batch_shuffle_rev)"
   ]
  },
  {
   "cell_type": "code",
   "execution_count": 22,
   "id": "italian-basement",
   "metadata": {},
   "outputs": [
    {
     "name": "stdout",
     "output_type": "stream",
     "text": [
      "l2r_loss tensor(13.3687, grad_fn=<NllLossBackward>)\n",
      "r2l_loss tensor(10.0583, grad_fn=<NllLossBackward>)\n"
     ]
    }
   ],
   "source": [
    "res = model(**batch_shuffle) # forward"
   ]
  },
  {
   "cell_type": "code",
   "execution_count": 23,
   "id": "indirect-minnesota",
   "metadata": {},
   "outputs": [
    {
     "name": "stdout",
     "output_type": "stream",
     "text": [
      "l2r_loss tensor(13.1889, grad_fn=<NllLossBackward>)\n",
      "r2l_loss tensor(9.9842, grad_fn=<NllLossBackward>)\n"
     ]
    }
   ],
   "source": [
    "res = model(**batch_shuffle_rev) # reverse"
   ]
  },
  {
   "cell_type": "code",
   "execution_count": null,
   "id": "diverse-pleasure",
   "metadata": {},
   "outputs": [],
   "source": []
  },
  {
   "cell_type": "markdown",
   "id": "creative-warehouse",
   "metadata": {},
   "source": [
    "##### Trial-2"
   ]
  },
  {
   "cell_type": "code",
   "execution_count": 26,
   "id": "blessed-company",
   "metadata": {},
   "outputs": [
    {
     "data": {
      "text/html": [
       "<div>\n",
       "<style scoped>\n",
       "    .dataframe tbody tr th:only-of-type {\n",
       "        vertical-align: middle;\n",
       "    }\n",
       "\n",
       "    .dataframe tbody tr th {\n",
       "        vertical-align: top;\n",
       "    }\n",
       "\n",
       "    .dataframe thead th {\n",
       "        text-align: right;\n",
       "    }\n",
       "</style>\n",
       "<table border=\"1\" class=\"dataframe\">\n",
       "  <thead>\n",
       "    <tr style=\"text-align: right;\">\n",
       "      <th></th>\n",
       "      <th>forward</th>\n",
       "      <th>reverse</th>\n",
       "    </tr>\n",
       "  </thead>\n",
       "  <tbody>\n",
       "    <tr>\n",
       "      <th>0</th>\n",
       "      <td>[CLS]</td>\n",
       "      <td>[CLS]</td>\n",
       "    </tr>\n",
       "    <tr>\n",
       "      <th>1</th>\n",
       "      <td>oscill</td>\n",
       "      <td>Horatio</td>\n",
       "    </tr>\n",
       "    <tr>\n",
       "      <th>2</th>\n",
       "      <td>transluc</td>\n",
       "      <td>Wig</td>\n",
       "    </tr>\n",
       "    <tr>\n",
       "      <th>3</th>\n",
       "      <td>##brook</td>\n",
       "      <td>assuming</td>\n",
       "    </tr>\n",
       "    <tr>\n",
       "      <th>4</th>\n",
       "      <td>Perth</td>\n",
       "      <td>meetings</td>\n",
       "    </tr>\n",
       "    <tr>\n",
       "      <th>...</th>\n",
       "      <td>...</td>\n",
       "      <td>...</td>\n",
       "    </tr>\n",
       "    <tr>\n",
       "      <th>122</th>\n",
       "      <td>meetings</td>\n",
       "      <td>Perth</td>\n",
       "    </tr>\n",
       "    <tr>\n",
       "      <th>123</th>\n",
       "      <td>assuming</td>\n",
       "      <td>##brook</td>\n",
       "    </tr>\n",
       "    <tr>\n",
       "      <th>124</th>\n",
       "      <td>Wig</td>\n",
       "      <td>transluc</td>\n",
       "    </tr>\n",
       "    <tr>\n",
       "      <th>125</th>\n",
       "      <td>Horatio</td>\n",
       "      <td>oscill</td>\n",
       "    </tr>\n",
       "    <tr>\n",
       "      <th>126</th>\n",
       "      <td>[SEP]</td>\n",
       "      <td>[SEP]</td>\n",
       "    </tr>\n",
       "  </tbody>\n",
       "</table>\n",
       "<p>127 rows × 2 columns</p>\n",
       "</div>"
      ],
      "text/plain": [
       "      forward   reverse\n",
       "0       [CLS]     [CLS]\n",
       "1      oscill   Horatio\n",
       "2    transluc       Wig\n",
       "3     ##brook  assuming\n",
       "4       Perth  meetings\n",
       "..        ...       ...\n",
       "122  meetings     Perth\n",
       "123  assuming   ##brook\n",
       "124       Wig  transluc\n",
       "125   Horatio    oscill\n",
       "126     [SEP]     [SEP]\n",
       "\n",
       "[127 rows x 2 columns]"
      ]
     },
     "execution_count": 26,
     "metadata": {},
     "output_type": "execute_result"
    }
   ],
   "source": [
    "pandas_check(batch_shuffle, batch_shuffle_rev)"
   ]
  },
  {
   "cell_type": "code",
   "execution_count": 27,
   "id": "convenient-benefit",
   "metadata": {},
   "outputs": [
    {
     "name": "stdout",
     "output_type": "stream",
     "text": [
      "l2r_loss tensor(13.2914, grad_fn=<NllLossBackward>)\n",
      "r2l_loss tensor(10.1427, grad_fn=<NllLossBackward>)\n"
     ]
    }
   ],
   "source": [
    "res = model(**batch_shuffle) # forward"
   ]
  },
  {
   "cell_type": "code",
   "execution_count": 28,
   "id": "chinese-harvest",
   "metadata": {},
   "outputs": [
    {
     "name": "stdout",
     "output_type": "stream",
     "text": [
      "l2r_loss tensor(13.2515, grad_fn=<NllLossBackward>)\n",
      "r2l_loss tensor(10.0191, grad_fn=<NllLossBackward>)\n"
     ]
    }
   ],
   "source": [
    "res = model(**batch_shuffle_rev) # reverse"
   ]
  },
  {
   "cell_type": "code",
   "execution_count": null,
   "id": "peripheral-minnesota",
   "metadata": {},
   "outputs": [],
   "source": []
  },
  {
   "cell_type": "markdown",
   "id": "opposite-cooperative",
   "metadata": {},
   "source": [
    "##### Trial-3"
   ]
  },
  {
   "cell_type": "code",
   "execution_count": 31,
   "id": "competent-verification",
   "metadata": {},
   "outputs": [
    {
     "data": {
      "text/html": [
       "<div>\n",
       "<style scoped>\n",
       "    .dataframe tbody tr th:only-of-type {\n",
       "        vertical-align: middle;\n",
       "    }\n",
       "\n",
       "    .dataframe tbody tr th {\n",
       "        vertical-align: top;\n",
       "    }\n",
       "\n",
       "    .dataframe thead th {\n",
       "        text-align: right;\n",
       "    }\n",
       "</style>\n",
       "<table border=\"1\" class=\"dataframe\">\n",
       "  <thead>\n",
       "    <tr style=\"text-align: right;\">\n",
       "      <th></th>\n",
       "      <th>forward</th>\n",
       "      <th>reverse</th>\n",
       "    </tr>\n",
       "  </thead>\n",
       "  <tbody>\n",
       "    <tr>\n",
       "      <th>0</th>\n",
       "      <td>[CLS]</td>\n",
       "      <td>[CLS]</td>\n",
       "    </tr>\n",
       "    <tr>\n",
       "      <th>1</th>\n",
       "      <td>Stevens</td>\n",
       "      <td>Lima</td>\n",
       "    </tr>\n",
       "    <tr>\n",
       "      <th>2</th>\n",
       "      <td>Aden</td>\n",
       "      <td>##cing</td>\n",
       "    </tr>\n",
       "    <tr>\n",
       "      <th>3</th>\n",
       "      <td>Devil</td>\n",
       "      <td>##wo</td>\n",
       "    </tr>\n",
       "    <tr>\n",
       "      <th>4</th>\n",
       "      <td>##ibald</td>\n",
       "      <td>gate</td>\n",
       "    </tr>\n",
       "    <tr>\n",
       "      <th>...</th>\n",
       "      <td>...</td>\n",
       "      <td>...</td>\n",
       "    </tr>\n",
       "    <tr>\n",
       "      <th>122</th>\n",
       "      <td>gate</td>\n",
       "      <td>##ibald</td>\n",
       "    </tr>\n",
       "    <tr>\n",
       "      <th>123</th>\n",
       "      <td>##wo</td>\n",
       "      <td>Devil</td>\n",
       "    </tr>\n",
       "    <tr>\n",
       "      <th>124</th>\n",
       "      <td>##cing</td>\n",
       "      <td>Aden</td>\n",
       "    </tr>\n",
       "    <tr>\n",
       "      <th>125</th>\n",
       "      <td>Lima</td>\n",
       "      <td>Stevens</td>\n",
       "    </tr>\n",
       "    <tr>\n",
       "      <th>126</th>\n",
       "      <td>[SEP]</td>\n",
       "      <td>[SEP]</td>\n",
       "    </tr>\n",
       "  </tbody>\n",
       "</table>\n",
       "<p>127 rows × 2 columns</p>\n",
       "</div>"
      ],
      "text/plain": [
       "     forward  reverse\n",
       "0      [CLS]    [CLS]\n",
       "1    Stevens     Lima\n",
       "2       Aden   ##cing\n",
       "3      Devil     ##wo\n",
       "4    ##ibald     gate\n",
       "..       ...      ...\n",
       "122     gate  ##ibald\n",
       "123     ##wo    Devil\n",
       "124   ##cing     Aden\n",
       "125     Lima  Stevens\n",
       "126    [SEP]    [SEP]\n",
       "\n",
       "[127 rows x 2 columns]"
      ]
     },
     "execution_count": 31,
     "metadata": {},
     "output_type": "execute_result"
    }
   ],
   "source": [
    "pandas_check(batch_shuffle, batch_shuffle_rev)"
   ]
  },
  {
   "cell_type": "code",
   "execution_count": 32,
   "id": "dimensional-trauma",
   "metadata": {},
   "outputs": [
    {
     "name": "stdout",
     "output_type": "stream",
     "text": [
      "l2r_loss tensor(13.3330, grad_fn=<NllLossBackward>)\n",
      "r2l_loss tensor(9.8861, grad_fn=<NllLossBackward>)\n"
     ]
    }
   ],
   "source": [
    "res = model(**batch_shuffle) # forward"
   ]
  },
  {
   "cell_type": "code",
   "execution_count": 33,
   "id": "typical-president",
   "metadata": {},
   "outputs": [
    {
     "name": "stdout",
     "output_type": "stream",
     "text": [
      "l2r_loss tensor(13.3210, grad_fn=<NllLossBackward>)\n",
      "r2l_loss tensor(9.9579, grad_fn=<NllLossBackward>)\n"
     ]
    }
   ],
   "source": [
    "res = model(**batch_shuffle_rev) # reverse"
   ]
  },
  {
   "cell_type": "code",
   "execution_count": null,
   "id": "arabic-announcement",
   "metadata": {},
   "outputs": [],
   "source": []
  }
 ],
 "metadata": {
  "kernelspec": {
   "display_name": "Python 3",
   "language": "python",
   "name": "python3"
  },
  "language_info": {
   "codemirror_mode": {
    "name": "ipython",
    "version": 3
   },
   "file_extension": ".py",
   "mimetype": "text/x-python",
   "name": "python",
   "nbconvert_exporter": "python",
   "pygments_lexer": "ipython3",
   "version": "3.8.5"
  }
 },
 "nbformat": 4,
 "nbformat_minor": 5
}
