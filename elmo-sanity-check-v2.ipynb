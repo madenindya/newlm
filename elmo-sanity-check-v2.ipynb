{
 "cells": [
  {
   "cell_type": "markdown",
   "id": "norwegian-factor",
   "metadata": {},
   "source": [
    "## Prepare Data + Model"
   ]
  },
  {
   "cell_type": "code",
   "execution_count": 22,
   "id": "institutional-inspector",
   "metadata": {},
   "outputs": [],
   "source": [
    "# !cat examples/data/text_forward.txt"
   ]
  },
  {
   "cell_type": "code",
   "execution_count": 23,
   "id": "alert-immune",
   "metadata": {},
   "outputs": [],
   "source": [
    "# !ls -al ./outputs/en.1-percent.elmo-bert-causal"
   ]
  },
  {
   "cell_type": "code",
   "execution_count": null,
   "id": "handed-blair",
   "metadata": {},
   "outputs": [],
   "source": []
  },
  {
   "cell_type": "code",
   "execution_count": 4,
   "id": "designing-rating",
   "metadata": {},
   "outputs": [],
   "source": [
    "import torch\n",
    "from newlm.lm.elmo.modeling_elmo.elmo_head import ELMOBertLMHeadModel\n",
    "from newlm.lm.elmo.lm_builder import ELMOLMBuilder\n",
    "from transformers import BertConfig"
   ]
  },
  {
   "cell_type": "markdown",
   "id": "quarterly-algorithm",
   "metadata": {},
   "source": [
    "#### Model"
   ]
  },
  {
   "cell_type": "code",
   "execution_count": 6,
   "id": "flexible-upset",
   "metadata": {},
   "outputs": [],
   "source": [
    "model = ELMOBertLMHeadModel.from_pretrained(\n",
    "    \"./outputs/en.1-percent.elmo-bert-causal\"\n",
    ") # use pre-trained model"
   ]
  },
  {
   "cell_type": "code",
   "execution_count": 13,
   "id": "resident-techno",
   "metadata": {},
   "outputs": [
    {
     "name": "stdout",
     "output_type": "stream",
     "text": [
      "Model in eval mode for consistency\n"
     ]
    }
   ],
   "source": [
    "model.eval()\n",
    "print(\"Model in eval mode for consistency\")"
   ]
  },
  {
   "cell_type": "code",
   "execution_count": null,
   "id": "peaceful-reproduction",
   "metadata": {},
   "outputs": [],
   "source": []
  },
  {
   "cell_type": "markdown",
   "id": "heated-article",
   "metadata": {},
   "source": [
    "#### Data"
   ]
  },
  {
   "cell_type": "code",
   "execution_count": 10,
   "id": "appointed-cooking",
   "metadata": {},
   "outputs": [
    {
     "name": "stderr",
     "output_type": "stream",
     "text": [
      "2021-11-11 19:28:13.210 | INFO     | newlm.lm.elmo.lm_builder:_get_dataset:142 - Constructing roBERTa style dataset\n"
     ]
    }
   ],
   "source": [
    "%%capture\n",
    "\n",
    "from newlm.utils.file_util import read_from_yaml\n",
    "config_file = read_from_yaml('examples/configs/run.1-percent-elmo-bert-causal.yaml')\n",
    "\n",
    "# lm builder (helper)\n",
    "elmo_lm_builder = ELMOLMBuilder(\n",
    "    model_config = config_file['lm']['model']['config'],\n",
    "    tokenizer=\"./outputs/en.1-percent.elmo-bert-causal\", # use pre-trained tokenizer\n",
    "    model_type=\"bert-causal-elmo\"\n",
    ")\n",
    "\n",
    "# dataset-forward\n",
    "train_path = \"./examples/data/text_forward.txt\"\n",
    "ds_f = elmo_lm_builder._get_dataset(train_path)"
   ]
  },
  {
   "cell_type": "code",
   "execution_count": 11,
   "id": "desperate-supervisor",
   "metadata": {},
   "outputs": [
    {
     "name": "stderr",
     "output_type": "stream",
     "text": [
      "max_steps is given, it will override any value given in num_train_epochs\n"
     ]
    }
   ],
   "source": [
    "# trainer (helper)\n",
    "from transformers import TrainingArguments, Trainer\n",
    "args = TrainingArguments(output_dir=\"tmpout\",**config_file['lm']['hf_trainer']['args'])\n",
    "\n",
    "# dataloader-forward\n",
    "trainer = Trainer(model=model, args=args, data_collator=elmo_lm_builder.data_collator, train_dataset=ds_f,)\n",
    "dl_f = trainer.get_train_dataloader() # Data Loader-forward"
   ]
  },
  {
   "cell_type": "code",
   "execution_count": 12,
   "id": "controversial-morgan",
   "metadata": {},
   "outputs": [
    {
     "data": {
      "text/plain": [
       "torch.Size([1, 272])"
      ]
     },
     "execution_count": 12,
     "metadata": {},
     "output_type": "execute_result"
    }
   ],
   "source": [
    "batch_f = next(iter(dl_f))\n",
    "batch_f['input_ids'].shape"
   ]
  },
  {
   "cell_type": "code",
   "execution_count": null,
   "id": "foreign-industry",
   "metadata": {},
   "outputs": [],
   "source": []
  },
  {
   "cell_type": "markdown",
   "id": "trained-stadium",
   "metadata": {},
   "source": [
    "## Sanity Check"
   ]
  },
  {
   "cell_type": "code",
   "execution_count": 15,
   "id": "earned-light",
   "metadata": {},
   "outputs": [],
   "source": [
    "# batch_f"
   ]
  },
  {
   "cell_type": "code",
   "execution_count": 16,
   "id": "insured-cartoon",
   "metadata": {},
   "outputs": [],
   "source": [
    "import torch\n",
    "\n",
    "# reverse input\n",
    "batch_f_input = torch.clone(batch_f['input_ids'])\n",
    "batch_f_rev_input = torch.cat(\n",
    "    (\n",
    "        batch_f_input[0][0:1],\n",
    "        torch.flip(batch_f_input[0][1:-1], [0]),\n",
    "        batch_f_input[0][-1:]\n",
    "    )\n",
    ")\n",
    "batch_f_rev_input = batch_f_rev_input.reshape(1,-1)\n",
    "\n",
    "# reverse labels\n",
    "batch_f_labels = torch.clone(batch_f['labels'])\n",
    "batch_f_rev_labels = torch.cat(\n",
    "    (\n",
    "        batch_f_labels[0][0:1],\n",
    "        torch.flip(batch_f_labels[0][1:-1], [0]),\n",
    "        batch_f_labels[0][-1:]\n",
    "    )\n",
    ")\n",
    "batch_f_rev_labels = batch_f_rev_labels.reshape(1,-1)\n",
    "\n",
    "batch_rev = batch_f.copy()\n",
    "batch_rev['input_ids'] = batch_f_rev_input\n",
    "batch_rev['labels'] = batch_f_rev_labels"
   ]
  },
  {
   "cell_type": "code",
   "execution_count": 17,
   "id": "promotional-joint",
   "metadata": {},
   "outputs": [
    {
     "data": {
      "text/html": [
       "<div>\n",
       "<style scoped>\n",
       "    .dataframe tbody tr th:only-of-type {\n",
       "        vertical-align: middle;\n",
       "    }\n",
       "\n",
       "    .dataframe tbody tr th {\n",
       "        vertical-align: top;\n",
       "    }\n",
       "\n",
       "    .dataframe thead th {\n",
       "        text-align: right;\n",
       "    }\n",
       "</style>\n",
       "<table border=\"1\" class=\"dataframe\">\n",
       "  <thead>\n",
       "    <tr style=\"text-align: right;\">\n",
       "      <th></th>\n",
       "      <th>forward</th>\n",
       "      <th>reverse</th>\n",
       "    </tr>\n",
       "  </thead>\n",
       "  <tbody>\n",
       "    <tr>\n",
       "      <th>0</th>\n",
       "      <td>[CLS]</td>\n",
       "      <td>[CLS]</td>\n",
       "    </tr>\n",
       "    <tr>\n",
       "      <th>1</th>\n",
       "      <td>R</td>\n",
       "      <td>.</td>\n",
       "    </tr>\n",
       "    <tr>\n",
       "      <th>2</th>\n",
       "      <td>##ø</td>\n",
       "      <td>periods</td>\n",
       "    </tr>\n",
       "    <tr>\n",
       "      <th>3</th>\n",
       "      <td>##d</td>\n",
       "      <td>##an</td>\n",
       "    </tr>\n",
       "    <tr>\n",
       "      <th>4</th>\n",
       "      <td>##berg</td>\n",
       "      <td>republic</td>\n",
       "    </tr>\n",
       "    <tr>\n",
       "      <th>...</th>\n",
       "      <td>...</td>\n",
       "      <td>...</td>\n",
       "    </tr>\n",
       "    <tr>\n",
       "      <th>267</th>\n",
       "      <td>republic</td>\n",
       "      <td>##berg</td>\n",
       "    </tr>\n",
       "    <tr>\n",
       "      <th>268</th>\n",
       "      <td>##an</td>\n",
       "      <td>##d</td>\n",
       "    </tr>\n",
       "    <tr>\n",
       "      <th>269</th>\n",
       "      <td>periods</td>\n",
       "      <td>##ø</td>\n",
       "    </tr>\n",
       "    <tr>\n",
       "      <th>270</th>\n",
       "      <td>.</td>\n",
       "      <td>R</td>\n",
       "    </tr>\n",
       "    <tr>\n",
       "      <th>271</th>\n",
       "      <td>[SEP]</td>\n",
       "      <td>[SEP]</td>\n",
       "    </tr>\n",
       "  </tbody>\n",
       "</table>\n",
       "<p>272 rows × 2 columns</p>\n",
       "</div>"
      ],
      "text/plain": [
       "      forward   reverse\n",
       "0       [CLS]     [CLS]\n",
       "1           R         .\n",
       "2         ##ø   periods\n",
       "3         ##d      ##an\n",
       "4      ##berg  republic\n",
       "..        ...       ...\n",
       "267  republic    ##berg\n",
       "268      ##an       ##d\n",
       "269   periods       ##ø\n",
       "270         .         R\n",
       "271     [SEP]     [SEP]\n",
       "\n",
       "[272 rows x 2 columns]"
      ]
     },
     "execution_count": 17,
     "metadata": {},
     "output_type": "execute_result"
    }
   ],
   "source": [
    "tokens_f = elmo_lm_builder.tokenizer.convert_ids_to_tokens(batch_f['input_ids'][0])\n",
    "tokens_f_rev = elmo_lm_builder.tokenizer.convert_ids_to_tokens(batch_rev['input_ids'][0])\n",
    "\n",
    "import pandas as pd\n",
    "pd.DataFrame({\"forward\": tokens_f, \"reverse\": tokens_f_rev})"
   ]
  },
  {
   "cell_type": "code",
   "execution_count": 18,
   "id": "seeing-liberal",
   "metadata": {},
   "outputs": [
    {
     "data": {
      "text/plain": [
       "(torch.Size([1, 272]), torch.Size([1, 272]))"
      ]
     },
     "execution_count": 18,
     "metadata": {},
     "output_type": "execute_result"
    }
   ],
   "source": [
    "batch_f['input_ids'].shape, batch_rev['input_ids'].shape"
   ]
  },
  {
   "cell_type": "code",
   "execution_count": 19,
   "id": "chinese-showcase",
   "metadata": {},
   "outputs": [
    {
     "name": "stdout",
     "output_type": "stream",
     "text": [
      "l2r_loss tensor(4.8444, grad_fn=<NllLossBackward>)\n",
      "r2l_loss tensor(8.5702, grad_fn=<NllLossBackward>)\n"
     ]
    }
   ],
   "source": [
    "res = model(**batch_f) # forward"
   ]
  },
  {
   "cell_type": "code",
   "execution_count": 20,
   "id": "beneficial-lloyd",
   "metadata": {},
   "outputs": [
    {
     "name": "stdout",
     "output_type": "stream",
     "text": [
      "l2r_loss tensor(9.3590, grad_fn=<NllLossBackward>)\n",
      "r2l_loss tensor(8.4301, grad_fn=<NllLossBackward>)\n"
     ]
    }
   ],
   "source": [
    "res = model(**batch_rev) # reverse"
   ]
  },
  {
   "cell_type": "code",
   "execution_count": null,
   "id": "preliminary-convergence",
   "metadata": {},
   "outputs": [],
   "source": []
  }
 ],
 "metadata": {
  "kernelspec": {
   "display_name": "Python 3",
   "language": "python",
   "name": "python3"
  },
  "language_info": {
   "codemirror_mode": {
    "name": "ipython",
    "version": 3
   },
   "file_extension": ".py",
   "mimetype": "text/x-python",
   "name": "python",
   "nbconvert_exporter": "python",
   "pygments_lexer": "ipython3",
   "version": "3.8.5"
  }
 },
 "nbformat": 4,
 "nbformat_minor": 5
}
