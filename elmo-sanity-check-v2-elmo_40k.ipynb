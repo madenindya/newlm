{
 "cells": [
  {
   "cell_type": "markdown",
   "id": "passive-benchmark",
   "metadata": {},
   "source": [
    "## Prepare Data + Model"
   ]
  },
  {
   "cell_type": "code",
   "execution_count": null,
   "id": "entire-diagram",
   "metadata": {},
   "outputs": [],
   "source": [
    "# !cat examples/data/text_forward.txt"
   ]
  },
  {
   "cell_type": "code",
   "execution_count": null,
   "id": "diverse-brother",
   "metadata": {},
   "outputs": [],
   "source": [
    "# !ls -al ./outputs/en.1-percent.elmo-bert-causal-fixr2l"
   ]
  },
  {
   "cell_type": "code",
   "execution_count": null,
   "id": "tight-loading",
   "metadata": {},
   "outputs": [],
   "source": []
  },
  {
   "cell_type": "code",
   "execution_count": null,
   "id": "instant-proof",
   "metadata": {},
   "outputs": [],
   "source": [
    "import torch\n",
    "from newlm.lm.elmo.modeling_elmo.elmo_head import ELMOBertLMHeadModel\n",
    "from newlm.lm.elmo.lm_builder import ELMOLMBuilder\n",
    "from transformers import BertConfig"
   ]
  },
  {
   "cell_type": "markdown",
   "id": "amino-trainer",
   "metadata": {},
   "source": [
    "#### Model"
   ]
  },
  {
   "cell_type": "code",
   "execution_count": null,
   "id": "informative-sword",
   "metadata": {},
   "outputs": [],
   "source": [
    "model = ELMOBertLMHeadModel.from_pretrained(\n",
    "    \"./outputs/en.100-percent.elmo-bert-causal.40k\"\n",
    ") # use pre-trained model"
   ]
  },
  {
   "cell_type": "code",
   "execution_count": null,
   "id": "olive-regular",
   "metadata": {},
   "outputs": [],
   "source": [
    "model.eval()\n",
    "print(\"Model in eval mode for consistency\")"
   ]
  },
  {
   "cell_type": "code",
   "execution_count": null,
   "id": "designed-telling",
   "metadata": {},
   "outputs": [],
   "source": []
  },
  {
   "cell_type": "markdown",
   "id": "specific-belief",
   "metadata": {},
   "source": [
    "#### Data"
   ]
  },
  {
   "cell_type": "code",
   "execution_count": null,
   "id": "exotic-hepatitis",
   "metadata": {},
   "outputs": [],
   "source": [
    "%%capture\n",
    "\n",
    "from newlm.utils.file_util import read_from_yaml\n",
    "config_file = read_from_yaml('examples/configs_gcloud/run-100-percent.elmo-bert-causal.yaml')\n",
    "\n",
    "# lm builder (helper)\n",
    "elmo_lm_builder = ELMOLMBuilder(\n",
    "    model_config = config_file['lm']['model']['config'],\n",
    "    tokenizer=\"./outputs/en.100-percent.elmo-bert-causal.40k\", # use pre-trained tokenizer\n",
    "    model_type=\"bert-causal-elmo\",\n",
    "    max_len=128\n",
    ")\n",
    "\n",
    "# dataset-forward\n",
    "train_path = \"./examples/data/text_forward-small.txt\"\n",
    "ds_f = elmo_lm_builder._get_dataset(train_path)"
   ]
  },
  {
   "cell_type": "code",
   "execution_count": null,
   "id": "considered-discharge",
   "metadata": {},
   "outputs": [],
   "source": [
    "# trainer (helper)\n",
    "from transformers import TrainingArguments, Trainer\n",
    "args = TrainingArguments(output_dir=\"tmpout\",**config_file['lm']['hf_trainer']['args'])\n",
    "\n",
    "# dataloader-forward\n",
    "trainer = Trainer(model=model, args=args, data_collator=elmo_lm_builder.data_collator, train_dataset=ds_f,)\n",
    "dl_f = trainer.get_train_dataloader() # Data Loader-forward"
   ]
  },
  {
   "cell_type": "code",
   "execution_count": null,
   "id": "studied-catholic",
   "metadata": {},
   "outputs": [],
   "source": [
    "batch_f = next(iter(dl_f))\n",
    "batch_f['input_ids'].shape"
   ]
  },
  {
   "cell_type": "code",
   "execution_count": null,
   "id": "pending-hands",
   "metadata": {},
   "outputs": [],
   "source": []
  },
  {
   "cell_type": "code",
   "execution_count": null,
   "id": "frequent-conspiracy",
   "metadata": {},
   "outputs": [],
   "source": [
    "model.eval()\n",
    "print(\"Model in eval mode for consistency\")"
   ]
  },
  {
   "cell_type": "markdown",
   "id": "challenging-tracker",
   "metadata": {},
   "source": [
    "## Sanity Check"
   ]
  },
  {
   "cell_type": "code",
   "execution_count": null,
   "id": "damaged-decimal",
   "metadata": {},
   "outputs": [],
   "source": [
    "# batch_f"
   ]
  },
  {
   "cell_type": "code",
   "execution_count": null,
   "id": "distributed-ireland",
   "metadata": {},
   "outputs": [],
   "source": [
    "import torch\n",
    "\n",
    "def reverse_batch(batch_f):\n",
    "    # reverse input\n",
    "    batch_f_input = torch.clone(batch_f['input_ids'])\n",
    "    batch_f_rev_input = torch.cat(\n",
    "        (\n",
    "            batch_f_input[0][0:1],\n",
    "            torch.flip(batch_f_input[0][1:-1], [0]),\n",
    "            batch_f_input[0][-1:]\n",
    "        )\n",
    "    )\n",
    "    batch_f_rev_input = batch_f_rev_input.reshape(1,-1)\n",
    "\n",
    "    # reverse labels\n",
    "    batch_f_rev_labels = torch.clone(batch_f_rev_input)\n",
    "    \n",
    "    # batch_rev\n",
    "    batch_rev = batch_f.copy()\n",
    "    batch_rev['input_ids'] = batch_f_rev_input\n",
    "    batch_rev['labels'] = batch_f_rev_labels\n",
    "    \n",
    "    return batch_rev"
   ]
  },
  {
   "cell_type": "code",
   "execution_count": null,
   "id": "alpine-moore",
   "metadata": {},
   "outputs": [],
   "source": [
    "import pandas as pd\n",
    "\n",
    "def pandas_check(batch_f, batch_rev):\n",
    "    tokens_f = elmo_lm_builder.tokenizer.convert_ids_to_tokens(batch_f['input_ids'][0])\n",
    "    tokens_f_rev = elmo_lm_builder.tokenizer.convert_ids_to_tokens(batch_rev['input_ids'][0])\n",
    "    return pd.DataFrame({\"forward\": tokens_f, \"reverse\": tokens_f_rev})"
   ]
  },
  {
   "cell_type": "code",
   "execution_count": null,
   "id": "forty-essence",
   "metadata": {},
   "outputs": [],
   "source": []
  },
  {
   "cell_type": "markdown",
   "id": "speaking-defeat",
   "metadata": {},
   "source": [
    "#### Normal vs Reverse"
   ]
  },
  {
   "cell_type": "code",
   "execution_count": null,
   "id": "major-gates",
   "metadata": {},
   "outputs": [],
   "source": [
    "batch_rev = reverse_batch(batch_f)"
   ]
  },
  {
   "cell_type": "code",
   "execution_count": null,
   "id": "linear-abuse",
   "metadata": {},
   "outputs": [],
   "source": [
    "pandas_check(batch_f, batch_rev)"
   ]
  },
  {
   "cell_type": "code",
   "execution_count": null,
   "id": "weird-australian",
   "metadata": {},
   "outputs": [],
   "source": [
    "batch_f['input_ids'].shape, batch_rev['input_ids'].shape"
   ]
  },
  {
   "cell_type": "code",
   "execution_count": null,
   "id": "noted-equivalent",
   "metadata": {},
   "outputs": [],
   "source": [
    "res = model(**batch_f) # forward"
   ]
  },
  {
   "cell_type": "code",
   "execution_count": null,
   "id": "yellow-progressive",
   "metadata": {},
   "outputs": [],
   "source": [
    "res = model(**batch_rev) # reverse"
   ]
  },
  {
   "cell_type": "code",
   "execution_count": null,
   "id": "golden-major",
   "metadata": {},
   "outputs": [],
   "source": []
  },
  {
   "cell_type": "markdown",
   "id": "every-value",
   "metadata": {},
   "source": [
    "#### Random String"
   ]
  },
  {
   "cell_type": "code",
   "execution_count": null,
   "id": "fiscal-society",
   "metadata": {},
   "outputs": [],
   "source": [
    "batch_f['input_ids'].shape"
   ]
  },
  {
   "cell_type": "code",
   "execution_count": null,
   "id": "senior-breast",
   "metadata": {},
   "outputs": [],
   "source": [
    "# shuffle data\n",
    "batch_f_input = batch_f['input_ids']\n",
    "batch_shuffle_input = torch.cat(\n",
    "    (\n",
    "        batch_f_input[0][0:1],\n",
    "        torch.randint(\n",
    "            low=5, # 0-4 > ['[PAD]', '[UNK]', '[CLS]', '[SEP]', '[MASK]']\n",
    "            high=29999,\n",
    "            size=(121,), # modified based on seqlen!\n",
    "            dtype=torch.long\n",
    "        ),\n",
    "        batch_f_input[0][-1:]\n",
    "    )\n",
    ")\n",
    "batch_shuffle_input = batch_shuffle_input.reshape(1,-1)\n",
    "# labels\n",
    "batch_shuffle_labels = torch.clone(batch_shuffle_input)    \n",
    "# batch_shuffle\n",
    "batch_shuffle = batch_f.copy()\n",
    "batch_shuffle['input_ids'] = batch_shuffle_input\n",
    "batch_shuffle['labels'] = batch_shuffle_labels"
   ]
  },
  {
   "cell_type": "code",
   "execution_count": null,
   "id": "downtown-spouse",
   "metadata": {},
   "outputs": [],
   "source": [
    "batch_shuffle_rev = reverse_batch(batch_shuffle)"
   ]
  },
  {
   "cell_type": "code",
   "execution_count": null,
   "id": "otherwise-department",
   "metadata": {},
   "outputs": [],
   "source": []
  },
  {
   "cell_type": "markdown",
   "id": "surface-saying",
   "metadata": {},
   "source": [
    "##### Trial-1"
   ]
  },
  {
   "cell_type": "code",
   "execution_count": null,
   "id": "sexual-wilderness",
   "metadata": {},
   "outputs": [],
   "source": [
    "pandas_check(batch_shuffle, batch_shuffle_rev)"
   ]
  },
  {
   "cell_type": "code",
   "execution_count": null,
   "id": "gothic-understanding",
   "metadata": {},
   "outputs": [],
   "source": [
    "res = model(**batch_shuffle) # forward"
   ]
  },
  {
   "cell_type": "code",
   "execution_count": null,
   "id": "boolean-holiday",
   "metadata": {},
   "outputs": [],
   "source": [
    "res = model(**batch_shuffle_rev) # reverse"
   ]
  },
  {
   "cell_type": "code",
   "execution_count": null,
   "id": "talented-spanish",
   "metadata": {},
   "outputs": [],
   "source": []
  },
  {
   "cell_type": "markdown",
   "id": "australian-logistics",
   "metadata": {},
   "source": [
    "##### Trial-2"
   ]
  },
  {
   "cell_type": "code",
   "execution_count": null,
   "id": "italic-responsibility",
   "metadata": {},
   "outputs": [],
   "source": [
    "pandas_check(batch_shuffle, batch_shuffle_rev)"
   ]
  },
  {
   "cell_type": "code",
   "execution_count": null,
   "id": "three-simpson",
   "metadata": {},
   "outputs": [],
   "source": [
    "res = model(**batch_shuffle) # forward"
   ]
  },
  {
   "cell_type": "code",
   "execution_count": null,
   "id": "classified-pennsylvania",
   "metadata": {},
   "outputs": [],
   "source": [
    "res = model(**batch_shuffle_rev) # reverse"
   ]
  },
  {
   "cell_type": "code",
   "execution_count": null,
   "id": "greenhouse-reader",
   "metadata": {},
   "outputs": [],
   "source": []
  },
  {
   "cell_type": "markdown",
   "id": "announced-economics",
   "metadata": {},
   "source": [
    "##### Trial-3"
   ]
  },
  {
   "cell_type": "code",
   "execution_count": null,
   "id": "tutorial-circuit",
   "metadata": {},
   "outputs": [],
   "source": [
    "pandas_check(batch_shuffle, batch_shuffle_rev)"
   ]
  },
  {
   "cell_type": "code",
   "execution_count": null,
   "id": "round-watts",
   "metadata": {},
   "outputs": [],
   "source": [
    "res = model(**batch_shuffle) # forward"
   ]
  },
  {
   "cell_type": "code",
   "execution_count": null,
   "id": "juvenile-walter",
   "metadata": {},
   "outputs": [],
   "source": [
    "res = model(**batch_shuffle_rev) # reverse"
   ]
  },
  {
   "cell_type": "code",
   "execution_count": null,
   "id": "dying-congress",
   "metadata": {},
   "outputs": [],
   "source": []
  }
 ],
 "metadata": {
  "kernelspec": {
   "display_name": "Python 3",
   "language": "python",
   "name": "python3"
  },
  "language_info": {
   "codemirror_mode": {
    "name": "ipython",
    "version": 3
   },
   "file_extension": ".py",
   "mimetype": "text/x-python",
   "name": "python",
   "nbconvert_exporter": "python",
   "pygments_lexer": "ipython3",
   "version": "3.8.5"
  }
 },
 "nbformat": 4,
 "nbformat_minor": 5
}
