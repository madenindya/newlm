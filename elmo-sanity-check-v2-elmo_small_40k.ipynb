{
 "cells": [
  {
   "cell_type": "markdown",
   "id": "swedish-breast",
   "metadata": {},
   "source": [
    "## Prepare Data + Model"
   ]
  },
  {
   "cell_type": "code",
   "execution_count": 1,
   "id": "former-delta",
   "metadata": {},
   "outputs": [],
   "source": [
    "# !cat examples/data/text_forward.txt"
   ]
  },
  {
   "cell_type": "code",
   "execution_count": 2,
   "id": "noted-jacksonville",
   "metadata": {},
   "outputs": [],
   "source": [
    "# !ls -al ./outputs/en.1-percent.elmo-bert-causal-fixr2l"
   ]
  },
  {
   "cell_type": "code",
   "execution_count": null,
   "id": "requested-nudist",
   "metadata": {},
   "outputs": [],
   "source": []
  },
  {
   "cell_type": "code",
   "execution_count": 3,
   "id": "atomic-orbit",
   "metadata": {},
   "outputs": [],
   "source": [
    "import torch\n",
    "from newlm.lm.elmo.modeling_elmo.elmo_head import ELMOBertLMHeadModel\n",
    "from newlm.lm.elmo.lm_builder import ELMOLMBuilder\n",
    "from transformers import BertConfig"
   ]
  },
  {
   "cell_type": "markdown",
   "id": "empirical-forestry",
   "metadata": {},
   "source": [
    "#### Model"
   ]
  },
  {
   "cell_type": "code",
   "execution_count": 4,
   "id": "outside-consultancy",
   "metadata": {},
   "outputs": [],
   "source": [
    "model = ELMOBertLMHeadModel.from_pretrained(\n",
    "    \"./outputs/en.100-percent.elmo-small-bert-causal.40k\"\n",
    ") # use pre-trained model"
   ]
  },
  {
   "cell_type": "code",
   "execution_count": 5,
   "id": "fewer-harmony",
   "metadata": {},
   "outputs": [
    {
     "name": "stdout",
     "output_type": "stream",
     "text": [
      "Model in eval mode for consistency\n"
     ]
    }
   ],
   "source": [
    "model.eval()\n",
    "print(\"Model in eval mode for consistency\")"
   ]
  },
  {
   "cell_type": "code",
   "execution_count": null,
   "id": "impressive-convert",
   "metadata": {},
   "outputs": [],
   "source": []
  },
  {
   "cell_type": "markdown",
   "id": "radical-secret",
   "metadata": {},
   "source": [
    "#### Data"
   ]
  },
  {
   "cell_type": "code",
   "execution_count": 6,
   "id": "sexual-wisconsin",
   "metadata": {},
   "outputs": [
    {
     "name": "stderr",
     "output_type": "stream",
     "text": [
      "2021-11-22 19:37:37.967 | INFO     | newlm.lm.elmo.lm_builder:_get_dataset:142 - Constructing roBERTa style dataset\n"
     ]
    }
   ],
   "source": [
    "%%capture\n",
    "\n",
    "from newlm.utils.file_util import read_from_yaml\n",
    "config_file = read_from_yaml('examples/configs_gcloud/run-100-percent.elmo-small-bert-causal.yaml')\n",
    "\n",
    "# lm builder (helper)\n",
    "elmo_lm_builder = ELMOLMBuilder(\n",
    "    model_config = config_file['lm']['model']['config'],\n",
    "    tokenizer=\"./outputs/en.100-percent.elmo-small-bert-causal.40k\", # use pre-trained tokenizer\n",
    "    model_type=\"bert-causal-elmo\",\n",
    "    max_len=128\n",
    ")\n",
    "\n",
    "# dataset-forward\n",
    "train_path = \"./examples/data/text_forward-small.txt\"\n",
    "ds_f = elmo_lm_builder._get_dataset(train_path)"
   ]
  },
  {
   "cell_type": "code",
   "execution_count": 7,
   "id": "sophisticated-texas",
   "metadata": {},
   "outputs": [
    {
     "name": "stderr",
     "output_type": "stream",
     "text": [
      "max_steps is given, it will override any value given in num_train_epochs\n"
     ]
    }
   ],
   "source": [
    "# trainer (helper)\n",
    "from transformers import TrainingArguments, Trainer\n",
    "args = TrainingArguments(output_dir=\"tmpout\",**config_file['lm']['hf_trainer']['args'])\n",
    "\n",
    "# dataloader-forward\n",
    "trainer = Trainer(model=model, args=args, data_collator=elmo_lm_builder.data_collator, train_dataset=ds_f,)\n",
    "dl_f = trainer.get_train_dataloader() # Data Loader-forward"
   ]
  },
  {
   "cell_type": "code",
   "execution_count": 8,
   "id": "attractive-insight",
   "metadata": {},
   "outputs": [
    {
     "data": {
      "text/plain": [
       "torch.Size([1, 123])"
      ]
     },
     "execution_count": 8,
     "metadata": {},
     "output_type": "execute_result"
    }
   ],
   "source": [
    "batch_f = next(iter(dl_f))\n",
    "batch_f['input_ids'].shape"
   ]
  },
  {
   "cell_type": "code",
   "execution_count": null,
   "id": "incorporate-integration",
   "metadata": {},
   "outputs": [],
   "source": []
  },
  {
   "cell_type": "code",
   "execution_count": 9,
   "id": "original-voluntary",
   "metadata": {},
   "outputs": [
    {
     "name": "stdout",
     "output_type": "stream",
     "text": [
      "Model in eval mode for consistency\n"
     ]
    }
   ],
   "source": [
    "model.eval()\n",
    "print(\"Model in eval mode for consistency\")"
   ]
  },
  {
   "cell_type": "markdown",
   "id": "empirical-accessory",
   "metadata": {},
   "source": [
    "## Sanity Check"
   ]
  },
  {
   "cell_type": "code",
   "execution_count": 10,
   "id": "impaired-soviet",
   "metadata": {},
   "outputs": [],
   "source": [
    "# batch_f"
   ]
  },
  {
   "cell_type": "code",
   "execution_count": 11,
   "id": "activated-platinum",
   "metadata": {},
   "outputs": [],
   "source": [
    "import torch\n",
    "\n",
    "def reverse_batch(batch_f):\n",
    "    # reverse input\n",
    "    batch_f_input = torch.clone(batch_f['input_ids'])\n",
    "    batch_f_rev_input = torch.cat(\n",
    "        (\n",
    "            batch_f_input[0][0:1],\n",
    "            torch.flip(batch_f_input[0][1:-1], [0]),\n",
    "            batch_f_input[0][-1:]\n",
    "        )\n",
    "    )\n",
    "    batch_f_rev_input = batch_f_rev_input.reshape(1,-1)\n",
    "\n",
    "    # reverse labels\n",
    "    batch_f_rev_labels = torch.clone(batch_f_rev_input)\n",
    "    \n",
    "    # batch_rev\n",
    "    batch_rev = batch_f.copy()\n",
    "    batch_rev['input_ids'] = batch_f_rev_input\n",
    "    batch_rev['labels'] = batch_f_rev_labels\n",
    "    \n",
    "    return batch_rev"
   ]
  },
  {
   "cell_type": "code",
   "execution_count": 12,
   "id": "adopted-tamil",
   "metadata": {},
   "outputs": [],
   "source": [
    "import pandas as pd\n",
    "\n",
    "def pandas_check(batch_f, batch_rev):\n",
    "    tokens_f = elmo_lm_builder.tokenizer.convert_ids_to_tokens(batch_f['input_ids'][0])\n",
    "    tokens_f_rev = elmo_lm_builder.tokenizer.convert_ids_to_tokens(batch_rev['input_ids'][0])\n",
    "    return pd.DataFrame({\"forward\": tokens_f, \"reverse\": tokens_f_rev})"
   ]
  },
  {
   "cell_type": "code",
   "execution_count": null,
   "id": "opponent-grant",
   "metadata": {},
   "outputs": [],
   "source": []
  },
  {
   "cell_type": "markdown",
   "id": "electoral-effort",
   "metadata": {},
   "source": [
    "#### Normal vs Reverse"
   ]
  },
  {
   "cell_type": "code",
   "execution_count": 13,
   "id": "elegant-occasions",
   "metadata": {},
   "outputs": [],
   "source": [
    "batch_rev = reverse_batch(batch_f)"
   ]
  },
  {
   "cell_type": "code",
   "execution_count": 14,
   "id": "demanding-wealth",
   "metadata": {},
   "outputs": [
    {
     "data": {
      "text/html": [
       "<div>\n",
       "<style scoped>\n",
       "    .dataframe tbody tr th:only-of-type {\n",
       "        vertical-align: middle;\n",
       "    }\n",
       "\n",
       "    .dataframe tbody tr th {\n",
       "        vertical-align: top;\n",
       "    }\n",
       "\n",
       "    .dataframe thead th {\n",
       "        text-align: right;\n",
       "    }\n",
       "</style>\n",
       "<table border=\"1\" class=\"dataframe\">\n",
       "  <thead>\n",
       "    <tr style=\"text-align: right;\">\n",
       "      <th></th>\n",
       "      <th>forward</th>\n",
       "      <th>reverse</th>\n",
       "    </tr>\n",
       "  </thead>\n",
       "  <tbody>\n",
       "    <tr>\n",
       "      <th>0</th>\n",
       "      <td>[CLS]</td>\n",
       "      <td>[CLS]</td>\n",
       "    </tr>\n",
       "    <tr>\n",
       "      <th>1</th>\n",
       "      <td>[UNK]</td>\n",
       "      <td>.</td>\n",
       "    </tr>\n",
       "    <tr>\n",
       "      <th>2</th>\n",
       "      <td>is</td>\n",
       "      <td>Jews</td>\n",
       "    </tr>\n",
       "    <tr>\n",
       "      <th>3</th>\n",
       "      <td>located</td>\n",
       "      <td>among</td>\n",
       "    </tr>\n",
       "    <tr>\n",
       "      <th>4</th>\n",
       "      <td>in</td>\n",
       "      <td>lived</td>\n",
       "    </tr>\n",
       "    <tr>\n",
       "      <th>...</th>\n",
       "      <td>...</td>\n",
       "      <td>...</td>\n",
       "    </tr>\n",
       "    <tr>\n",
       "      <th>118</th>\n",
       "      <td>lived</td>\n",
       "      <td>in</td>\n",
       "    </tr>\n",
       "    <tr>\n",
       "      <th>119</th>\n",
       "      <td>among</td>\n",
       "      <td>located</td>\n",
       "    </tr>\n",
       "    <tr>\n",
       "      <th>120</th>\n",
       "      <td>Jews</td>\n",
       "      <td>is</td>\n",
       "    </tr>\n",
       "    <tr>\n",
       "      <th>121</th>\n",
       "      <td>.</td>\n",
       "      <td>[UNK]</td>\n",
       "    </tr>\n",
       "    <tr>\n",
       "      <th>122</th>\n",
       "      <td>[SEP]</td>\n",
       "      <td>[SEP]</td>\n",
       "    </tr>\n",
       "  </tbody>\n",
       "</table>\n",
       "<p>123 rows × 2 columns</p>\n",
       "</div>"
      ],
      "text/plain": [
       "     forward  reverse\n",
       "0      [CLS]    [CLS]\n",
       "1      [UNK]        .\n",
       "2         is     Jews\n",
       "3    located    among\n",
       "4         in    lived\n",
       "..       ...      ...\n",
       "118    lived       in\n",
       "119    among  located\n",
       "120     Jews       is\n",
       "121        .    [UNK]\n",
       "122    [SEP]    [SEP]\n",
       "\n",
       "[123 rows x 2 columns]"
      ]
     },
     "execution_count": 14,
     "metadata": {},
     "output_type": "execute_result"
    }
   ],
   "source": [
    "pandas_check(batch_f, batch_rev)"
   ]
  },
  {
   "cell_type": "code",
   "execution_count": 15,
   "id": "stuffed-lightweight",
   "metadata": {},
   "outputs": [
    {
     "data": {
      "text/plain": [
       "(torch.Size([1, 123]), torch.Size([1, 123]))"
      ]
     },
     "execution_count": 15,
     "metadata": {},
     "output_type": "execute_result"
    }
   ],
   "source": [
    "batch_f['input_ids'].shape, batch_rev['input_ids'].shape"
   ]
  },
  {
   "cell_type": "code",
   "execution_count": 16,
   "id": "norman-pricing",
   "metadata": {},
   "outputs": [
    {
     "name": "stdout",
     "output_type": "stream",
     "text": [
      "l2r_loss tensor(4.0284, grad_fn=<NllLossBackward>)\n",
      "r2l_loss tensor(3.9578, grad_fn=<NllLossBackward>)\n"
     ]
    }
   ],
   "source": [
    "res = model(**batch_f) # forward"
   ]
  },
  {
   "cell_type": "code",
   "execution_count": 17,
   "id": "divine-joseph",
   "metadata": {},
   "outputs": [
    {
     "name": "stdout",
     "output_type": "stream",
     "text": [
      "l2r_loss tensor(9.0815, grad_fn=<NllLossBackward>)\n",
      "r2l_loss tensor(9.1060, grad_fn=<NllLossBackward>)\n"
     ]
    }
   ],
   "source": [
    "res = model(**batch_rev) # reverse"
   ]
  },
  {
   "cell_type": "code",
   "execution_count": null,
   "id": "hairy-logan",
   "metadata": {},
   "outputs": [],
   "source": []
  },
  {
   "cell_type": "markdown",
   "id": "expanded-portal",
   "metadata": {},
   "source": [
    "#### Random String"
   ]
  },
  {
   "cell_type": "code",
   "execution_count": 18,
   "id": "understanding-knock",
   "metadata": {},
   "outputs": [
    {
     "data": {
      "text/plain": [
       "torch.Size([1, 123])"
      ]
     },
     "execution_count": 18,
     "metadata": {},
     "output_type": "execute_result"
    }
   ],
   "source": [
    "batch_f['input_ids'].shape"
   ]
  },
  {
   "cell_type": "code",
   "execution_count": 19,
   "id": "raising-deviation",
   "metadata": {},
   "outputs": [],
   "source": [
    "# shuffle data\n",
    "batch_f_input = batch_f['input_ids']\n",
    "batch_shuffle_input = torch.cat(\n",
    "    (\n",
    "        batch_f_input[0][0:1],\n",
    "        torch.randint(\n",
    "            low=5, # 0-4 > ['[PAD]', '[UNK]', '[CLS]', '[SEP]', '[MASK]']\n",
    "            high=29999,\n",
    "            size=(121,), # modified based on seqlen!\n",
    "            dtype=torch.long\n",
    "        ),\n",
    "        batch_f_input[0][-1:]\n",
    "    )\n",
    ")\n",
    "batch_shuffle_input = batch_shuffle_input.reshape(1,-1)\n",
    "# labels\n",
    "batch_shuffle_labels = torch.clone(batch_shuffle_input)    \n",
    "# batch_shuffle\n",
    "batch_shuffle = batch_f.copy()\n",
    "batch_shuffle['input_ids'] = batch_shuffle_input\n",
    "batch_shuffle['labels'] = batch_shuffle_labels"
   ]
  },
  {
   "cell_type": "code",
   "execution_count": 20,
   "id": "headed-aside",
   "metadata": {},
   "outputs": [],
   "source": [
    "batch_shuffle_rev = reverse_batch(batch_shuffle)"
   ]
  },
  {
   "cell_type": "code",
   "execution_count": null,
   "id": "distinct-steel",
   "metadata": {},
   "outputs": [],
   "source": []
  },
  {
   "cell_type": "markdown",
   "id": "dirty-doctor",
   "metadata": {},
   "source": [
    "##### Trial-1"
   ]
  },
  {
   "cell_type": "code",
   "execution_count": 21,
   "id": "virtual-church",
   "metadata": {},
   "outputs": [
    {
     "data": {
      "text/html": [
       "<div>\n",
       "<style scoped>\n",
       "    .dataframe tbody tr th:only-of-type {\n",
       "        vertical-align: middle;\n",
       "    }\n",
       "\n",
       "    .dataframe tbody tr th {\n",
       "        vertical-align: top;\n",
       "    }\n",
       "\n",
       "    .dataframe thead th {\n",
       "        text-align: right;\n",
       "    }\n",
       "</style>\n",
       "<table border=\"1\" class=\"dataframe\">\n",
       "  <thead>\n",
       "    <tr style=\"text-align: right;\">\n",
       "      <th></th>\n",
       "      <th>forward</th>\n",
       "      <th>reverse</th>\n",
       "    </tr>\n",
       "  </thead>\n",
       "  <tbody>\n",
       "    <tr>\n",
       "      <th>0</th>\n",
       "      <td>[CLS]</td>\n",
       "      <td>[CLS]</td>\n",
       "    </tr>\n",
       "    <tr>\n",
       "      <th>1</th>\n",
       "      <td>##wich</td>\n",
       "      <td>battery</td>\n",
       "    </tr>\n",
       "    <tr>\n",
       "      <th>2</th>\n",
       "      <td>desk</td>\n",
       "      <td>Ner</td>\n",
       "    </tr>\n",
       "    <tr>\n",
       "      <th>3</th>\n",
       "      <td>Collection</td>\n",
       "      <td>ought</td>\n",
       "    </tr>\n",
       "    <tr>\n",
       "      <th>4</th>\n",
       "      <td>fisher</td>\n",
       "      <td>Mug</td>\n",
       "    </tr>\n",
       "    <tr>\n",
       "      <th>...</th>\n",
       "      <td>...</td>\n",
       "      <td>...</td>\n",
       "    </tr>\n",
       "    <tr>\n",
       "      <th>118</th>\n",
       "      <td>Mug</td>\n",
       "      <td>fisher</td>\n",
       "    </tr>\n",
       "    <tr>\n",
       "      <th>119</th>\n",
       "      <td>ought</td>\n",
       "      <td>Collection</td>\n",
       "    </tr>\n",
       "    <tr>\n",
       "      <th>120</th>\n",
       "      <td>Ner</td>\n",
       "      <td>desk</td>\n",
       "    </tr>\n",
       "    <tr>\n",
       "      <th>121</th>\n",
       "      <td>battery</td>\n",
       "      <td>##wich</td>\n",
       "    </tr>\n",
       "    <tr>\n",
       "      <th>122</th>\n",
       "      <td>[SEP]</td>\n",
       "      <td>[SEP]</td>\n",
       "    </tr>\n",
       "  </tbody>\n",
       "</table>\n",
       "<p>123 rows × 2 columns</p>\n",
       "</div>"
      ],
      "text/plain": [
       "        forward     reverse\n",
       "0         [CLS]       [CLS]\n",
       "1        ##wich     battery\n",
       "2          desk         Ner\n",
       "3    Collection       ought\n",
       "4        fisher         Mug\n",
       "..          ...         ...\n",
       "118         Mug      fisher\n",
       "119       ought  Collection\n",
       "120         Ner        desk\n",
       "121     battery      ##wich\n",
       "122       [SEP]       [SEP]\n",
       "\n",
       "[123 rows x 2 columns]"
      ]
     },
     "execution_count": 21,
     "metadata": {},
     "output_type": "execute_result"
    }
   ],
   "source": [
    "pandas_check(batch_shuffle, batch_shuffle_rev)"
   ]
  },
  {
   "cell_type": "code",
   "execution_count": 22,
   "id": "artificial-salem",
   "metadata": {},
   "outputs": [
    {
     "name": "stdout",
     "output_type": "stream",
     "text": [
      "l2r_loss tensor(14.4735, grad_fn=<NllLossBackward>)\n",
      "r2l_loss tensor(13.7806, grad_fn=<NllLossBackward>)\n"
     ]
    }
   ],
   "source": [
    "res = model(**batch_shuffle) # forward"
   ]
  },
  {
   "cell_type": "code",
   "execution_count": 23,
   "id": "blond-pitch",
   "metadata": {},
   "outputs": [
    {
     "name": "stdout",
     "output_type": "stream",
     "text": [
      "l2r_loss tensor(14.0861, grad_fn=<NllLossBackward>)\n",
      "r2l_loss tensor(13.5071, grad_fn=<NllLossBackward>)\n"
     ]
    }
   ],
   "source": [
    "res = model(**batch_shuffle_rev) # reverse"
   ]
  },
  {
   "cell_type": "code",
   "execution_count": null,
   "id": "clean-favorite",
   "metadata": {},
   "outputs": [],
   "source": []
  },
  {
   "cell_type": "markdown",
   "id": "another-penetration",
   "metadata": {},
   "source": [
    "##### Trial-2"
   ]
  },
  {
   "cell_type": "code",
   "execution_count": 24,
   "id": "brilliant-antarctica",
   "metadata": {},
   "outputs": [
    {
     "data": {
      "text/html": [
       "<div>\n",
       "<style scoped>\n",
       "    .dataframe tbody tr th:only-of-type {\n",
       "        vertical-align: middle;\n",
       "    }\n",
       "\n",
       "    .dataframe tbody tr th {\n",
       "        vertical-align: top;\n",
       "    }\n",
       "\n",
       "    .dataframe thead th {\n",
       "        text-align: right;\n",
       "    }\n",
       "</style>\n",
       "<table border=\"1\" class=\"dataframe\">\n",
       "  <thead>\n",
       "    <tr style=\"text-align: right;\">\n",
       "      <th></th>\n",
       "      <th>forward</th>\n",
       "      <th>reverse</th>\n",
       "    </tr>\n",
       "  </thead>\n",
       "  <tbody>\n",
       "    <tr>\n",
       "      <th>0</th>\n",
       "      <td>[CLS]</td>\n",
       "      <td>[CLS]</td>\n",
       "    </tr>\n",
       "    <tr>\n",
       "      <th>1</th>\n",
       "      <td>##wich</td>\n",
       "      <td>battery</td>\n",
       "    </tr>\n",
       "    <tr>\n",
       "      <th>2</th>\n",
       "      <td>desk</td>\n",
       "      <td>Ner</td>\n",
       "    </tr>\n",
       "    <tr>\n",
       "      <th>3</th>\n",
       "      <td>Collection</td>\n",
       "      <td>ought</td>\n",
       "    </tr>\n",
       "    <tr>\n",
       "      <th>4</th>\n",
       "      <td>fisher</td>\n",
       "      <td>Mug</td>\n",
       "    </tr>\n",
       "    <tr>\n",
       "      <th>...</th>\n",
       "      <td>...</td>\n",
       "      <td>...</td>\n",
       "    </tr>\n",
       "    <tr>\n",
       "      <th>118</th>\n",
       "      <td>Mug</td>\n",
       "      <td>fisher</td>\n",
       "    </tr>\n",
       "    <tr>\n",
       "      <th>119</th>\n",
       "      <td>ought</td>\n",
       "      <td>Collection</td>\n",
       "    </tr>\n",
       "    <tr>\n",
       "      <th>120</th>\n",
       "      <td>Ner</td>\n",
       "      <td>desk</td>\n",
       "    </tr>\n",
       "    <tr>\n",
       "      <th>121</th>\n",
       "      <td>battery</td>\n",
       "      <td>##wich</td>\n",
       "    </tr>\n",
       "    <tr>\n",
       "      <th>122</th>\n",
       "      <td>[SEP]</td>\n",
       "      <td>[SEP]</td>\n",
       "    </tr>\n",
       "  </tbody>\n",
       "</table>\n",
       "<p>123 rows × 2 columns</p>\n",
       "</div>"
      ],
      "text/plain": [
       "        forward     reverse\n",
       "0         [CLS]       [CLS]\n",
       "1        ##wich     battery\n",
       "2          desk         Ner\n",
       "3    Collection       ought\n",
       "4        fisher         Mug\n",
       "..          ...         ...\n",
       "118         Mug      fisher\n",
       "119       ought  Collection\n",
       "120         Ner        desk\n",
       "121     battery      ##wich\n",
       "122       [SEP]       [SEP]\n",
       "\n",
       "[123 rows x 2 columns]"
      ]
     },
     "execution_count": 24,
     "metadata": {},
     "output_type": "execute_result"
    }
   ],
   "source": [
    "pandas_check(batch_shuffle, batch_shuffle_rev)"
   ]
  },
  {
   "cell_type": "code",
   "execution_count": 25,
   "id": "animal-break",
   "metadata": {},
   "outputs": [
    {
     "name": "stdout",
     "output_type": "stream",
     "text": [
      "l2r_loss tensor(14.4735, grad_fn=<NllLossBackward>)\n",
      "r2l_loss tensor(13.7806, grad_fn=<NllLossBackward>)\n"
     ]
    }
   ],
   "source": [
    "res = model(**batch_shuffle) # forward"
   ]
  },
  {
   "cell_type": "code",
   "execution_count": 26,
   "id": "unlikely-table",
   "metadata": {},
   "outputs": [
    {
     "name": "stdout",
     "output_type": "stream",
     "text": [
      "l2r_loss tensor(14.0861, grad_fn=<NllLossBackward>)\n",
      "r2l_loss tensor(13.5071, grad_fn=<NllLossBackward>)\n"
     ]
    }
   ],
   "source": [
    "res = model(**batch_shuffle_rev) # reverse"
   ]
  },
  {
   "cell_type": "code",
   "execution_count": null,
   "id": "boolean-supplier",
   "metadata": {},
   "outputs": [],
   "source": []
  },
  {
   "cell_type": "markdown",
   "id": "mexican-canadian",
   "metadata": {},
   "source": [
    "##### Trial-3"
   ]
  },
  {
   "cell_type": "code",
   "execution_count": 27,
   "id": "assured-bahrain",
   "metadata": {},
   "outputs": [
    {
     "data": {
      "text/html": [
       "<div>\n",
       "<style scoped>\n",
       "    .dataframe tbody tr th:only-of-type {\n",
       "        vertical-align: middle;\n",
       "    }\n",
       "\n",
       "    .dataframe tbody tr th {\n",
       "        vertical-align: top;\n",
       "    }\n",
       "\n",
       "    .dataframe thead th {\n",
       "        text-align: right;\n",
       "    }\n",
       "</style>\n",
       "<table border=\"1\" class=\"dataframe\">\n",
       "  <thead>\n",
       "    <tr style=\"text-align: right;\">\n",
       "      <th></th>\n",
       "      <th>forward</th>\n",
       "      <th>reverse</th>\n",
       "    </tr>\n",
       "  </thead>\n",
       "  <tbody>\n",
       "    <tr>\n",
       "      <th>0</th>\n",
       "      <td>[CLS]</td>\n",
       "      <td>[CLS]</td>\n",
       "    </tr>\n",
       "    <tr>\n",
       "      <th>1</th>\n",
       "      <td>##wich</td>\n",
       "      <td>battery</td>\n",
       "    </tr>\n",
       "    <tr>\n",
       "      <th>2</th>\n",
       "      <td>desk</td>\n",
       "      <td>Ner</td>\n",
       "    </tr>\n",
       "    <tr>\n",
       "      <th>3</th>\n",
       "      <td>Collection</td>\n",
       "      <td>ought</td>\n",
       "    </tr>\n",
       "    <tr>\n",
       "      <th>4</th>\n",
       "      <td>fisher</td>\n",
       "      <td>Mug</td>\n",
       "    </tr>\n",
       "    <tr>\n",
       "      <th>...</th>\n",
       "      <td>...</td>\n",
       "      <td>...</td>\n",
       "    </tr>\n",
       "    <tr>\n",
       "      <th>118</th>\n",
       "      <td>Mug</td>\n",
       "      <td>fisher</td>\n",
       "    </tr>\n",
       "    <tr>\n",
       "      <th>119</th>\n",
       "      <td>ought</td>\n",
       "      <td>Collection</td>\n",
       "    </tr>\n",
       "    <tr>\n",
       "      <th>120</th>\n",
       "      <td>Ner</td>\n",
       "      <td>desk</td>\n",
       "    </tr>\n",
       "    <tr>\n",
       "      <th>121</th>\n",
       "      <td>battery</td>\n",
       "      <td>##wich</td>\n",
       "    </tr>\n",
       "    <tr>\n",
       "      <th>122</th>\n",
       "      <td>[SEP]</td>\n",
       "      <td>[SEP]</td>\n",
       "    </tr>\n",
       "  </tbody>\n",
       "</table>\n",
       "<p>123 rows × 2 columns</p>\n",
       "</div>"
      ],
      "text/plain": [
       "        forward     reverse\n",
       "0         [CLS]       [CLS]\n",
       "1        ##wich     battery\n",
       "2          desk         Ner\n",
       "3    Collection       ought\n",
       "4        fisher         Mug\n",
       "..          ...         ...\n",
       "118         Mug      fisher\n",
       "119       ought  Collection\n",
       "120         Ner        desk\n",
       "121     battery      ##wich\n",
       "122       [SEP]       [SEP]\n",
       "\n",
       "[123 rows x 2 columns]"
      ]
     },
     "execution_count": 27,
     "metadata": {},
     "output_type": "execute_result"
    }
   ],
   "source": [
    "pandas_check(batch_shuffle, batch_shuffle_rev)"
   ]
  },
  {
   "cell_type": "code",
   "execution_count": 28,
   "id": "promotional-panel",
   "metadata": {},
   "outputs": [
    {
     "name": "stdout",
     "output_type": "stream",
     "text": [
      "l2r_loss tensor(14.4735, grad_fn=<NllLossBackward>)\n",
      "r2l_loss tensor(13.7806, grad_fn=<NllLossBackward>)\n"
     ]
    }
   ],
   "source": [
    "res = model(**batch_shuffle) # forward"
   ]
  },
  {
   "cell_type": "code",
   "execution_count": 29,
   "id": "moving-karma",
   "metadata": {},
   "outputs": [
    {
     "name": "stdout",
     "output_type": "stream",
     "text": [
      "l2r_loss tensor(14.0861, grad_fn=<NllLossBackward>)\n",
      "r2l_loss tensor(13.5071, grad_fn=<NllLossBackward>)\n"
     ]
    }
   ],
   "source": [
    "res = model(**batch_shuffle_rev) # reverse"
   ]
  },
  {
   "cell_type": "code",
   "execution_count": null,
   "id": "clean-gibson",
   "metadata": {},
   "outputs": [],
   "source": []
  }
 ],
 "metadata": {
  "kernelspec": {
   "display_name": "Python 3",
   "language": "python",
   "name": "python3"
  },
  "language_info": {
   "codemirror_mode": {
    "name": "ipython",
    "version": 3
   },
   "file_extension": ".py",
   "mimetype": "text/x-python",
   "name": "python",
   "nbconvert_exporter": "python",
   "pygments_lexer": "ipython3",
   "version": "3.8.5"
  }
 },
 "nbformat": 4,
 "nbformat_minor": 5
}
