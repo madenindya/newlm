{
 "cells": [
  {
   "cell_type": "code",
   "execution_count": 1,
   "id": "raising-strike",
   "metadata": {},
   "outputs": [],
   "source": [
    "import torch\n",
    "from newlm.lm.elmo.lm_builder import ELMOLMBuilder\n",
    "from transformers import BertLMHeadModel"
   ]
  },
  {
   "cell_type": "code",
   "execution_count": null,
   "id": "grave-paradise",
   "metadata": {},
   "outputs": [],
   "source": []
  },
  {
   "cell_type": "code",
   "execution_count": 2,
   "id": "undefined-architect",
   "metadata": {},
   "outputs": [],
   "source": [
    "model_path = \"./outputs/en.100-percent.bert-causal.1M\"\n",
    "config_path = 'examples/configs_gcloud/run-100-percent.bert-causal.yaml'\n",
    "model_type = \"bert-causal\""
   ]
  },
  {
   "cell_type": "markdown",
   "id": "incredible-ocean",
   "metadata": {},
   "source": [
    "### Model Bert Causal"
   ]
  },
  {
   "cell_type": "code",
   "execution_count": 3,
   "id": "infectious-member",
   "metadata": {},
   "outputs": [],
   "source": [
    "model = BertLMHeadModel.from_pretrained(\n",
    "    model_path\n",
    ") # use pre-trained model"
   ]
  },
  {
   "cell_type": "code",
   "execution_count": 4,
   "id": "voluntary-siemens",
   "metadata": {},
   "outputs": [
    {
     "name": "stdout",
     "output_type": "stream",
     "text": [
      "model in eval mode for consistency\n"
     ]
    }
   ],
   "source": [
    "model.eval()\n",
    "print(\"model in eval mode for consistency\")"
   ]
  },
  {
   "cell_type": "code",
   "execution_count": 5,
   "id": "graduate-digest",
   "metadata": {},
   "outputs": [],
   "source": [
    "# model.__dict__"
   ]
  },
  {
   "cell_type": "code",
   "execution_count": null,
   "id": "mounted-performer",
   "metadata": {},
   "outputs": [],
   "source": []
  },
  {
   "cell_type": "markdown",
   "id": "exclusive-statistics",
   "metadata": {},
   "source": [
    "#### Helpers"
   ]
  },
  {
   "cell_type": "code",
   "execution_count": 6,
   "id": "eastern-constitution",
   "metadata": {},
   "outputs": [],
   "source": [
    "from newlm.utils.file_util import read_from_yaml\n",
    "config_file = read_from_yaml(config_path)"
   ]
  },
  {
   "cell_type": "code",
   "execution_count": 7,
   "id": "enclosed-flooring",
   "metadata": {},
   "outputs": [],
   "source": [
    "# trainer (helper)\n",
    "from transformers import TrainingArguments, Trainer\n",
    "trainer_args = TrainingArguments(output_dir=\"tmpout\",**config_file['lm']['hf_trainer']['args'])\n",
    "\n",
    "# lm builder (helper)\n",
    "elmo_lm_builder = ELMOLMBuilder(\n",
    "    model_config = config_file['lm']['model']['config'],\n",
    "    tokenizer=model_path, # use pre-trained tokenizer\n",
    "    model_type=model_type,\n",
    "    max_len=128\n",
    ")"
   ]
  },
  {
   "cell_type": "code",
   "execution_count": 8,
   "id": "north-hands",
   "metadata": {},
   "outputs": [],
   "source": [
    "%%capture\n",
    "from newlm.glue.cls_trainer import ClsTrainer\n",
    "cls_trainer = ClsTrainer(\n",
    "    model_path,\n",
    "    model_path,\n",
    "    model_type=model_type\n",
    ")"
   ]
  },
  {
   "cell_type": "markdown",
   "id": "vietnamese-desire",
   "metadata": {},
   "source": [
    "## Data"
   ]
  },
  {
   "cell_type": "code",
   "execution_count": 9,
   "id": "liquid-austin",
   "metadata": {},
   "outputs": [],
   "source": [
    "%%capture\n",
    "ds_ori = cls_trainer.helper(\"mrpc\", {})"
   ]
  },
  {
   "cell_type": "code",
   "execution_count": 10,
   "id": "standard-plastic",
   "metadata": {},
   "outputs": [
    {
     "data": {
      "text/plain": [
       "['Amrozi accused his brother , whom he called \" the witness \" , of deliberately distorting his evidence .',\n",
       " \"Yucaipa owned Dominick 's before selling the chain to Safeway in 1998 for $ 2.5 billion .\",\n",
       " 'They had published an advertisement on the Internet on June 10 , offering the cargo for sale , he added .']"
      ]
     },
     "execution_count": 10,
     "metadata": {},
     "output_type": "execute_result"
    }
   ],
   "source": [
    "ds_ori['train']['sentence1'][:3]"
   ]
  },
  {
   "cell_type": "code",
   "execution_count": 11,
   "id": "textile-eclipse",
   "metadata": {},
   "outputs": [
    {
     "name": "stderr",
     "output_type": "stream",
     "text": [
      "2021-12-01 17:16:05.015 | INFO     | newlm.glue.cls_trainer:helper:71 - Use detokenizer moses\n",
      "Asking to truncate to max_length but no maximum length is provided and the model has no predefined maximum length. Default to no truncation.\n"
     ]
    }
   ],
   "source": [
    "%%capture\n",
    "ds_moses = cls_trainer.helper(\"mrpc\", {\"detokenizer\": \"moses\"})"
   ]
  },
  {
   "cell_type": "code",
   "execution_count": 12,
   "id": "prescription-comedy",
   "metadata": {},
   "outputs": [
    {
     "data": {
      "text/plain": [
       "['Amrozi accused his brother, whom he called \"the witness\", of deliberately distorting his evidence.',\n",
       " \"Yucaipa owned Dominick's before selling the chain to Safeway in 1998 for $2.5 billion.\",\n",
       " 'They had published an advertisement on the Internet on June 10, offering the cargo for sale, he added.']"
      ]
     },
     "execution_count": 12,
     "metadata": {},
     "output_type": "execute_result"
    }
   ],
   "source": [
    "ds_moses['train']['sentence1'][:3]"
   ]
  },
  {
   "cell_type": "code",
   "execution_count": 13,
   "id": "backed-consumer",
   "metadata": {},
   "outputs": [
    {
     "name": "stderr",
     "output_type": "stream",
     "text": [
      "2021-12-01 17:16:08.143 | INFO     | newlm.glue.cls_trainer:helper:71 - Use detokenizer treebank\n"
     ]
    }
   ],
   "source": [
    "%%capture\n",
    "ds_tb = cls_trainer.helper(\"mrpc\", {\"detokenizer\": \"treebank\"})"
   ]
  },
  {
   "cell_type": "code",
   "execution_count": 14,
   "id": "isolated-melissa",
   "metadata": {},
   "outputs": [
    {
     "data": {
      "text/plain": [
       "['Amrozi accused his brother, whom he called \" the witness \", of deliberately distorting his evidence.',\n",
       " \"Yucaipa owned Dominick's before selling the chain to Safeway in 1998 for $2.5 billion.\",\n",
       " 'They had published an advertisement on the Internet on June 10, offering the cargo for sale, he added.']"
      ]
     },
     "execution_count": 14,
     "metadata": {},
     "output_type": "execute_result"
    }
   ],
   "source": [
    "ds_tb['train']['sentence1'][:3]"
   ]
  },
  {
   "cell_type": "code",
   "execution_count": 15,
   "id": "plastic-liquid",
   "metadata": {},
   "outputs": [
    {
     "name": "stderr",
     "output_type": "stream",
     "text": [
      "max_steps is given, it will override any value given in num_train_epochs\n",
      "The following columns in the training set  don't have a corresponding argument in `BertLMHeadModel.forward` and have been ignored: idx, sentence1, sentence2.\n"
     ]
    }
   ],
   "source": [
    "trainer = Trainer(model=model, args=trainer_args, data_collator=elmo_lm_builder.data_collator, train_dataset=ds_ori['train'])\n",
    "dl_ori = trainer.get_train_dataloader() "
   ]
  },
  {
   "cell_type": "code",
   "execution_count": 16,
   "id": "packed-zambia",
   "metadata": {},
   "outputs": [
    {
     "name": "stderr",
     "output_type": "stream",
     "text": [
      "max_steps is given, it will override any value given in num_train_epochs\n",
      "The following columns in the training set  don't have a corresponding argument in `BertLMHeadModel.forward` and have been ignored: idx, sentence1, sentence2.\n"
     ]
    }
   ],
   "source": [
    "trainer = Trainer(model=model, args=trainer_args, data_collator=elmo_lm_builder.data_collator, train_dataset=ds_moses['train'])\n",
    "dl_moses = trainer.get_train_dataloader() "
   ]
  },
  {
   "cell_type": "code",
   "execution_count": 17,
   "id": "sunrise-perth",
   "metadata": {},
   "outputs": [
    {
     "name": "stderr",
     "output_type": "stream",
     "text": [
      "max_steps is given, it will override any value given in num_train_epochs\n",
      "The following columns in the training set  don't have a corresponding argument in `BertLMHeadModel.forward` and have been ignored: idx, sentence1, sentence2.\n"
     ]
    }
   ],
   "source": [
    "trainer = Trainer(model=model, args=trainer_args, data_collator=elmo_lm_builder.data_collator, train_dataset=ds_tb['train'])\n",
    "dl_tb = trainer.get_train_dataloader() "
   ]
  },
  {
   "cell_type": "code",
   "execution_count": null,
   "id": "cardiac-debut",
   "metadata": {},
   "outputs": [],
   "source": []
  },
  {
   "cell_type": "code",
   "execution_count": 18,
   "id": "improved-margin",
   "metadata": {},
   "outputs": [],
   "source": [
    "batch_ori = next(iter(dl_ori))\n",
    "batch_moses = next(iter(dl_moses))\n",
    "batch_tb = next(iter(dl_tb))"
   ]
  },
  {
   "cell_type": "code",
   "execution_count": null,
   "id": "objective-butterfly",
   "metadata": {},
   "outputs": [],
   "source": []
  },
  {
   "cell_type": "code",
   "execution_count": 19,
   "id": "spiritual-broadcast",
   "metadata": {},
   "outputs": [
    {
     "name": "stdout",
     "output_type": "stream",
     "text": [
      "model in eval mode for consistency\n"
     ]
    }
   ],
   "source": [
    "model.eval()\n",
    "print(\"model in eval mode for consistency\")"
   ]
  },
  {
   "cell_type": "markdown",
   "id": "unexpected-humor",
   "metadata": {},
   "source": [
    "### RUN"
   ]
  },
  {
   "cell_type": "code",
   "execution_count": 20,
   "id": "marked-tracy",
   "metadata": {},
   "outputs": [
    {
     "data": {
      "text/plain": [
       "tensor([[    2,  1785,  3719,  ...,  2100,    18,     3],\n",
       "        [    2,  1771,  2957,  ...,     0,     0,     0],\n",
       "        [    2,  1771, 19714,  ...,     0,     0,     0],\n",
       "        ...,\n",
       "        [    2,  9344,    11,  ...,     0,     0,     0],\n",
       "        [    2,  1833,  6441,  ...,     0,     0,     0],\n",
       "        [    2,  2195,  4241,  ...,     0,     0,     0]])"
      ]
     },
     "execution_count": 20,
     "metadata": {},
     "output_type": "execute_result"
    }
   ],
   "source": [
    "del batch_ori['label']\n",
    "batch_ori['input_ids']"
   ]
  },
  {
   "cell_type": "code",
   "execution_count": 21,
   "id": "greenhouse-light",
   "metadata": {},
   "outputs": [],
   "source": [
    "res_ori = model(**batch_ori)"
   ]
  },
  {
   "cell_type": "code",
   "execution_count": 26,
   "id": "shaped-dutch",
   "metadata": {},
   "outputs": [
    {
     "data": {
      "text/plain": [
       "tensor(4.5310, grad_fn=<NllLossBackward>)"
      ]
     },
     "execution_count": 26,
     "metadata": {},
     "output_type": "execute_result"
    }
   ],
   "source": [
    "res_ori.loss"
   ]
  },
  {
   "cell_type": "code",
   "execution_count": 22,
   "id": "initial-coordination",
   "metadata": {},
   "outputs": [
    {
     "data": {
      "text/plain": [
       "tensor([[    2,  1785,  3719,  ...,  2100,    18,     3],\n",
       "        [    2,  1771,  2957,  ...,     0,     0,     0],\n",
       "        [    2,  1771, 19714,  ...,     0,     0,     0],\n",
       "        ...,\n",
       "        [    2,  9344,    11,  ...,     0,     0,     0],\n",
       "        [    2,  1833,  6441,  ...,     0,     0,     0],\n",
       "        [    2,  2195,  4241,  ...,     0,     0,     0]])"
      ]
     },
     "execution_count": 22,
     "metadata": {},
     "output_type": "execute_result"
    }
   ],
   "source": [
    "del batch_moses['label']\n",
    "batch_moses['input_ids']"
   ]
  },
  {
   "cell_type": "code",
   "execution_count": 23,
   "id": "linear-brief",
   "metadata": {},
   "outputs": [],
   "source": [
    "res_moses = model(**batch_moses)"
   ]
  },
  {
   "cell_type": "code",
   "execution_count": 27,
   "id": "determined-welsh",
   "metadata": {},
   "outputs": [
    {
     "data": {
      "text/plain": [
       "tensor(4.5310, grad_fn=<NllLossBackward>)"
      ]
     },
     "execution_count": 27,
     "metadata": {},
     "output_type": "execute_result"
    }
   ],
   "source": [
    "res_moses.loss"
   ]
  },
  {
   "cell_type": "code",
   "execution_count": 24,
   "id": "presidential-motion",
   "metadata": {},
   "outputs": [
    {
     "data": {
      "text/plain": [
       "tensor([[    2,  1785,  3719,  ...,  2100,    18,     3],\n",
       "        [    2,  1771,  2957,  ...,     0,     0,     0],\n",
       "        [    2,  1771, 19714,  ...,     0,     0,     0],\n",
       "        ...,\n",
       "        [    2,  9344,    11,  ...,     0,     0,     0],\n",
       "        [    2,  1833,  6441,  ...,     0,     0,     0],\n",
       "        [    2,  2195,  4241,  ...,     0,     0,     0]])"
      ]
     },
     "execution_count": 24,
     "metadata": {},
     "output_type": "execute_result"
    }
   ],
   "source": [
    "del batch_tb['label']\n",
    "batch_tb['input_ids']"
   ]
  },
  {
   "cell_type": "code",
   "execution_count": 25,
   "id": "defined-latest",
   "metadata": {},
   "outputs": [],
   "source": [
    "res_tb = model(**batch_tb)"
   ]
  },
  {
   "cell_type": "code",
   "execution_count": 28,
   "id": "narrow-humor",
   "metadata": {},
   "outputs": [
    {
     "data": {
      "text/plain": [
       "tensor(4.5310, grad_fn=<NllLossBackward>)"
      ]
     },
     "execution_count": 28,
     "metadata": {},
     "output_type": "execute_result"
    }
   ],
   "source": [
    "res_tb.loss"
   ]
  }
 ],
 "metadata": {
  "kernelspec": {
   "display_name": "Python 3",
   "language": "python",
   "name": "python3"
  },
  "language_info": {
   "codemirror_mode": {
    "name": "ipython",
    "version": 3
   },
   "file_extension": ".py",
   "mimetype": "text/x-python",
   "name": "python",
   "nbconvert_exporter": "python",
   "pygments_lexer": "ipython3",
   "version": "3.8.5"
  }
 },
 "nbformat": 4,
 "nbformat_minor": 5
}
