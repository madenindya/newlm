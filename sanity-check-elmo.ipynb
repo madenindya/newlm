{
 "cells": [
  {
   "cell_type": "markdown",
   "id": "laden-tsunami",
   "metadata": {},
   "source": [
    "## Prepare data"
   ]
  },
  {
   "cell_type": "code",
   "execution_count": 1,
   "id": "lovely-flood",
   "metadata": {},
   "outputs": [],
   "source": [
    "with open(\"./examples/data/text_forward-small.txt\", \"r+\") as fr:\n",
    "    lines = fr.readlines()"
   ]
  },
  {
   "cell_type": "code",
   "execution_count": 2,
   "id": "false-bernard",
   "metadata": {},
   "outputs": [],
   "source": [
    "lines = [line.strip() for line in lines]"
   ]
  },
  {
   "cell_type": "code",
   "execution_count": 3,
   "id": "funded-listing",
   "metadata": {},
   "outputs": [],
   "source": [
    "lines = [line.split() for line in lines]"
   ]
  },
  {
   "cell_type": "code",
   "execution_count": 4,
   "id": "medical-visiting",
   "metadata": {},
   "outputs": [],
   "source": [
    "lines = [line[::-1] for line in lines]"
   ]
  },
  {
   "cell_type": "code",
   "execution_count": 5,
   "id": "eastern-publicity",
   "metadata": {},
   "outputs": [],
   "source": [
    "lines = [\" \".join(line) for line in lines]"
   ]
  },
  {
   "cell_type": "code",
   "execution_count": 6,
   "id": "alien-nightmare",
   "metadata": {},
   "outputs": [],
   "source": [
    "lines = lines[::-1]"
   ]
  },
  {
   "cell_type": "code",
   "execution_count": 7,
   "id": "acute-black",
   "metadata": {},
   "outputs": [],
   "source": [
    "lines = \"\\n\".join(lines)"
   ]
  },
  {
   "cell_type": "code",
   "execution_count": 8,
   "id": "modified-links",
   "metadata": {},
   "outputs": [],
   "source": [
    "with open(\"./examples/data/text_backward-small.txt\", \"w+\") as fw:\n",
    "    fw.write(lines)"
   ]
  },
  {
   "cell_type": "markdown",
   "id": "absolute-world",
   "metadata": {},
   "source": [
    "## Sanity Check"
   ]
  },
  {
   "cell_type": "code",
   "execution_count": 9,
   "id": "hollow-newsletter",
   "metadata": {},
   "outputs": [],
   "source": [
    "import torch\n",
    "from newlm.lm.elmo.modeling_elmo.elmo_head import ELMOBertLMHeadModel\n",
    "from newlm.lm.elmo.lm_builder import ELMOLMBuilder\n",
    "from transformers import BertConfig"
   ]
  },
  {
   "cell_type": "markdown",
   "id": "chronic-crack",
   "metadata": {},
   "source": [
    "Model from scratch"
   ]
  },
  {
   "cell_type": "code",
   "execution_count": 10,
   "id": "identified-ivory",
   "metadata": {},
   "outputs": [],
   "source": [
    "from newlm.utils.file_util import read_from_yaml\n",
    "config_file = read_from_yaml('examples/configs/run.1-percent-bert-causal.yaml')\n",
    "\n",
    "elmo_lm_builder = ELMOLMBuilder(\n",
    "    model_config = config_file['lm']['model']['config'], # no pretrained model\n",
    "    tokenizer=\"./outputs/en.1-percent.elmo-bert-causal\", # use pre-trained tokenizer\n",
    "    model_type=\"bert-causal-elmo\",\n",
    "    max_len=128\n",
    ")\n",
    "\n",
    "# model\n",
    "config = BertConfig(**elmo_lm_builder.model_config)\n",
    "model = ELMOBertLMHeadModel(config=config)"
   ]
  },
  {
   "cell_type": "code",
   "execution_count": 11,
   "id": "boring-workplace",
   "metadata": {},
   "outputs": [
    {
     "name": "stdout",
     "output_type": "stream",
     "text": [
      "Model in eval mode for consistency\n"
     ]
    }
   ],
   "source": [
    "model.eval()\n",
    "print(\"Model in eval mode for consistency\")"
   ]
  },
  {
   "cell_type": "code",
   "execution_count": 12,
   "id": "deluxe-expert",
   "metadata": {},
   "outputs": [
    {
     "name": "stderr",
     "output_type": "stream",
     "text": [
      "2021-11-12 11:07:27.881 | INFO     | newlm.lm.elmo.lm_builder:_get_dataset:142 - Constructing roBERTa style dataset\n",
      "2021-11-12 11:07:29.324 | INFO     | newlm.lm.elmo.lm_builder:_get_dataset:142 - Constructing roBERTa style dataset\n"
     ]
    }
   ],
   "source": [
    "%%capture\n",
    "\n",
    "# dataset-forward\n",
    "train_path = \"./examples/data/text_forward-small.txt\"\n",
    "ds_f = elmo_lm_builder._get_dataset(train_path)\n",
    "\n",
    "# dataset-backward\n",
    "train_path = \"./examples/data/text_backward-small.txt\"\n",
    "ds_b = elmo_lm_builder._get_dataset(train_path)"
   ]
  },
  {
   "cell_type": "code",
   "execution_count": 13,
   "id": "immune-quick",
   "metadata": {},
   "outputs": [
    {
     "name": "stderr",
     "output_type": "stream",
     "text": [
      "max_steps is given, it will override any value given in num_train_epochs\n",
      "max_steps is given, it will override any value given in num_train_epochs\n"
     ]
    }
   ],
   "source": [
    "# trainer (for helper)\n",
    "from transformers import TrainingArguments, Trainer\n",
    "args = TrainingArguments(output_dir=\"tmpout\",**config_file['lm']['hf_trainer']['args'])\n",
    "\n",
    "trainer = Trainer(model=model, args=args, data_collator=elmo_lm_builder.data_collator,\n",
    "    train_dataset=ds_f,\n",
    ")\n",
    "dl_f = trainer.get_train_dataloader() # Data Loader-forward\n",
    "\n",
    "trainer = Trainer(model=model, args=args,data_collator=elmo_lm_builder.data_collator,\n",
    "    train_dataset=ds_b,\n",
    ")\n",
    "dl_b = trainer.get_train_dataloader() # Data Loader-backward"
   ]
  },
  {
   "cell_type": "code",
   "execution_count": null,
   "id": "enabling-business",
   "metadata": {},
   "outputs": [],
   "source": []
  },
  {
   "cell_type": "markdown",
   "id": "preceding-evening",
   "metadata": {},
   "source": [
    "### Compare text_forward and text_backward"
   ]
  },
  {
   "cell_type": "code",
   "execution_count": 14,
   "id": "promising-panama",
   "metadata": {},
   "outputs": [
    {
     "data": {
      "text/plain": [
       "(torch.Size([1, 127]), torch.Size([1, 127]))"
      ]
     },
     "execution_count": 14,
     "metadata": {},
     "output_type": "execute_result"
    }
   ],
   "source": [
    "batch_f = next(iter(dl_f))\n",
    "batch_b = next(iter(dl_b))\n",
    "\n",
    "batch_f['input_ids'].shape, batch_b['input_ids'].shape"
   ]
  },
  {
   "cell_type": "code",
   "execution_count": 15,
   "id": "italic-treaty",
   "metadata": {},
   "outputs": [
    {
     "data": {
      "text/html": [
       "<div>\n",
       "<style scoped>\n",
       "    .dataframe tbody tr th:only-of-type {\n",
       "        vertical-align: middle;\n",
       "    }\n",
       "\n",
       "    .dataframe tbody tr th {\n",
       "        vertical-align: top;\n",
       "    }\n",
       "\n",
       "    .dataframe thead th {\n",
       "        text-align: right;\n",
       "    }\n",
       "</style>\n",
       "<table border=\"1\" class=\"dataframe\">\n",
       "  <thead>\n",
       "    <tr style=\"text-align: right;\">\n",
       "      <th></th>\n",
       "      <th>forward</th>\n",
       "      <th>backward</th>\n",
       "    </tr>\n",
       "  </thead>\n",
       "  <tbody>\n",
       "    <tr>\n",
       "      <th>0</th>\n",
       "      <td>[CLS]</td>\n",
       "      <td>[CLS]</td>\n",
       "    </tr>\n",
       "    <tr>\n",
       "      <th>1</th>\n",
       "      <td>R</td>\n",
       "      <td>.</td>\n",
       "    </tr>\n",
       "    <tr>\n",
       "      <th>2</th>\n",
       "      <td>##ø</td>\n",
       "      <td>Jews</td>\n",
       "    </tr>\n",
       "    <tr>\n",
       "      <th>3</th>\n",
       "      <td>##d</td>\n",
       "      <td>among</td>\n",
       "    </tr>\n",
       "    <tr>\n",
       "      <th>4</th>\n",
       "      <td>##berg</td>\n",
       "      <td>lived</td>\n",
       "    </tr>\n",
       "    <tr>\n",
       "      <th>...</th>\n",
       "      <td>...</td>\n",
       "      <td>...</td>\n",
       "    </tr>\n",
       "    <tr>\n",
       "      <th>122</th>\n",
       "      <td>lived</td>\n",
       "      <td>R</td>\n",
       "    </tr>\n",
       "    <tr>\n",
       "      <th>123</th>\n",
       "      <td>among</td>\n",
       "      <td>##ø</td>\n",
       "    </tr>\n",
       "    <tr>\n",
       "      <th>124</th>\n",
       "      <td>Jews</td>\n",
       "      <td>##d</td>\n",
       "    </tr>\n",
       "    <tr>\n",
       "      <th>125</th>\n",
       "      <td>.</td>\n",
       "      <td>##berg</td>\n",
       "    </tr>\n",
       "    <tr>\n",
       "      <th>126</th>\n",
       "      <td>[SEP]</td>\n",
       "      <td>[SEP]</td>\n",
       "    </tr>\n",
       "  </tbody>\n",
       "</table>\n",
       "<p>127 rows × 2 columns</p>\n",
       "</div>"
      ],
      "text/plain": [
       "    forward backward\n",
       "0     [CLS]    [CLS]\n",
       "1         R        .\n",
       "2       ##ø     Jews\n",
       "3       ##d    among\n",
       "4    ##berg    lived\n",
       "..      ...      ...\n",
       "122   lived        R\n",
       "123   among      ##ø\n",
       "124    Jews      ##d\n",
       "125       .   ##berg\n",
       "126   [SEP]    [SEP]\n",
       "\n",
       "[127 rows x 2 columns]"
      ]
     },
     "execution_count": 15,
     "metadata": {},
     "output_type": "execute_result"
    }
   ],
   "source": [
    "tokens_f = elmo_lm_builder.tokenizer.convert_ids_to_tokens(batch_f['input_ids'][0])\n",
    "tokens_b = elmo_lm_builder.tokenizer.convert_ids_to_tokens(batch_b['input_ids'][0])\n",
    "\n",
    "import pandas as pd\n",
    "pd.DataFrame({\"forward\": tokens_f, \"backward\": tokens_b})"
   ]
  },
  {
   "cell_type": "markdown",
   "id": "attached-nursing",
   "metadata": {},
   "source": [
    "Here we can see that the data is not completely flip when the tokenizer couldn't parse a single word into a single id"
   ]
  },
  {
   "cell_type": "code",
   "execution_count": 16,
   "id": "graphic-paintball",
   "metadata": {},
   "outputs": [
    {
     "name": "stdout",
     "output_type": "stream",
     "text": [
      "l2r_loss tensor(10.5425, grad_fn=<NllLossBackward>)\n",
      "r2l_loss tensor(10.4237, grad_fn=<NllLossBackward>)\n"
     ]
    }
   ],
   "source": [
    "res = model(**batch_f)"
   ]
  },
  {
   "cell_type": "code",
   "execution_count": 17,
   "id": "frequent-scheduling",
   "metadata": {},
   "outputs": [
    {
     "name": "stdout",
     "output_type": "stream",
     "text": [
      "l2r_loss tensor(10.5305, grad_fn=<NllLossBackward>)\n",
      "r2l_loss tensor(10.4198, grad_fn=<NllLossBackward>)\n"
     ]
    }
   ],
   "source": [
    "res = model(**batch_b)"
   ]
  },
  {
   "cell_type": "code",
   "execution_count": null,
   "id": "amber-auckland",
   "metadata": {},
   "outputs": [],
   "source": []
  },
  {
   "cell_type": "markdown",
   "id": "unique-jungle",
   "metadata": {},
   "source": [
    "### From batch_forward compare Normal vs Rev"
   ]
  },
  {
   "cell_type": "code",
   "execution_count": 18,
   "id": "right-coalition",
   "metadata": {},
   "outputs": [],
   "source": [
    "import torch\n",
    "\n",
    "batch_f_input = torch.clone(batch_f['input_ids'])\n",
    "batch_f_rev_input = torch.cat(\n",
    "    (\n",
    "        batch_f_input[0][0:1],\n",
    "        torch.flip(batch_f_input[0][1:-1], [0]),\n",
    "        batch_f_input[0][-1:]\n",
    "    )\n",
    ")\n",
    "batch_f_rev_input = batch_f_rev_input.reshape(1,-1)\n",
    "\n",
    "batch_f_labels = torch.clone(batch_f['labels'])\n",
    "batch_f_rev_labels = torch.cat(\n",
    "    (\n",
    "        batch_f_labels[0][0:1],\n",
    "        torch.flip(batch_f_labels[0][1:-1], [0]),\n",
    "        batch_f_labels[0][-1:]\n",
    "    )\n",
    ")\n",
    "batch_f_rev_labels = batch_f_rev_labels.reshape(1,-1)\n",
    "\n",
    "batch_rev = batch_f.copy()\n",
    "batch_rev['input_ids'] = batch_f_rev_input\n",
    "batch_rev['labels'] = batch_f_rev_labels"
   ]
  },
  {
   "cell_type": "code",
   "execution_count": 19,
   "id": "terminal-withdrawal",
   "metadata": {},
   "outputs": [
    {
     "data": {
      "text/html": [
       "<div>\n",
       "<style scoped>\n",
       "    .dataframe tbody tr th:only-of-type {\n",
       "        vertical-align: middle;\n",
       "    }\n",
       "\n",
       "    .dataframe tbody tr th {\n",
       "        vertical-align: top;\n",
       "    }\n",
       "\n",
       "    .dataframe thead th {\n",
       "        text-align: right;\n",
       "    }\n",
       "</style>\n",
       "<table border=\"1\" class=\"dataframe\">\n",
       "  <thead>\n",
       "    <tr style=\"text-align: right;\">\n",
       "      <th></th>\n",
       "      <th>forward</th>\n",
       "      <th>reverse</th>\n",
       "    </tr>\n",
       "  </thead>\n",
       "  <tbody>\n",
       "    <tr>\n",
       "      <th>0</th>\n",
       "      <td>[CLS]</td>\n",
       "      <td>[CLS]</td>\n",
       "    </tr>\n",
       "    <tr>\n",
       "      <th>1</th>\n",
       "      <td>R</td>\n",
       "      <td>.</td>\n",
       "    </tr>\n",
       "    <tr>\n",
       "      <th>2</th>\n",
       "      <td>##ø</td>\n",
       "      <td>Jews</td>\n",
       "    </tr>\n",
       "    <tr>\n",
       "      <th>3</th>\n",
       "      <td>##d</td>\n",
       "      <td>among</td>\n",
       "    </tr>\n",
       "    <tr>\n",
       "      <th>4</th>\n",
       "      <td>##berg</td>\n",
       "      <td>lived</td>\n",
       "    </tr>\n",
       "    <tr>\n",
       "      <th>...</th>\n",
       "      <td>...</td>\n",
       "      <td>...</td>\n",
       "    </tr>\n",
       "    <tr>\n",
       "      <th>122</th>\n",
       "      <td>lived</td>\n",
       "      <td>##berg</td>\n",
       "    </tr>\n",
       "    <tr>\n",
       "      <th>123</th>\n",
       "      <td>among</td>\n",
       "      <td>##d</td>\n",
       "    </tr>\n",
       "    <tr>\n",
       "      <th>124</th>\n",
       "      <td>Jews</td>\n",
       "      <td>##ø</td>\n",
       "    </tr>\n",
       "    <tr>\n",
       "      <th>125</th>\n",
       "      <td>.</td>\n",
       "      <td>R</td>\n",
       "    </tr>\n",
       "    <tr>\n",
       "      <th>126</th>\n",
       "      <td>[SEP]</td>\n",
       "      <td>[SEP]</td>\n",
       "    </tr>\n",
       "  </tbody>\n",
       "</table>\n",
       "<p>127 rows × 2 columns</p>\n",
       "</div>"
      ],
      "text/plain": [
       "    forward reverse\n",
       "0     [CLS]   [CLS]\n",
       "1         R       .\n",
       "2       ##ø    Jews\n",
       "3       ##d   among\n",
       "4    ##berg   lived\n",
       "..      ...     ...\n",
       "122   lived  ##berg\n",
       "123   among     ##d\n",
       "124    Jews     ##ø\n",
       "125       .       R\n",
       "126   [SEP]   [SEP]\n",
       "\n",
       "[127 rows x 2 columns]"
      ]
     },
     "execution_count": 19,
     "metadata": {},
     "output_type": "execute_result"
    }
   ],
   "source": [
    "tokens_f = elmo_lm_builder.tokenizer.convert_ids_to_tokens(batch_f['input_ids'][0])\n",
    "tokens_f_rev = elmo_lm_builder.tokenizer.convert_ids_to_tokens(batch_rev['input_ids'][0])\n",
    "\n",
    "import pandas as pd\n",
    "pd.DataFrame({\"forward\": tokens_f, \"reverse\": tokens_f_rev})"
   ]
  },
  {
   "cell_type": "markdown",
   "id": "continued-recommendation",
   "metadata": {},
   "source": [
    "with the exception of [CLS] and [SEP], the data are completely flip"
   ]
  },
  {
   "cell_type": "code",
   "execution_count": 20,
   "id": "narrow-pipeline",
   "metadata": {},
   "outputs": [
    {
     "name": "stdout",
     "output_type": "stream",
     "text": [
      "l2r_loss tensor(10.5425, grad_fn=<NllLossBackward>)\n",
      "r2l_loss tensor(10.4237, grad_fn=<NllLossBackward>)\n"
     ]
    }
   ],
   "source": [
    "res = model(**batch_f)"
   ]
  },
  {
   "cell_type": "code",
   "execution_count": 21,
   "id": "desirable-peripheral",
   "metadata": {},
   "outputs": [
    {
     "name": "stdout",
     "output_type": "stream",
     "text": [
      "l2r_loss tensor(10.5323, grad_fn=<NllLossBackward>)\n",
      "r2l_loss tensor(10.4094, grad_fn=<NllLossBackward>)\n"
     ]
    }
   ],
   "source": [
    "res = model(**batch_rev)"
   ]
  }
 ],
 "metadata": {
  "kernelspec": {
   "display_name": "Python 3",
   "language": "python",
   "name": "python3"
  },
  "language_info": {
   "codemirror_mode": {
    "name": "ipython",
    "version": 3
   },
   "file_extension": ".py",
   "mimetype": "text/x-python",
   "name": "python",
   "nbconvert_exporter": "python",
   "pygments_lexer": "ipython3",
   "version": "3.8.5"
  }
 },
 "nbformat": 4,
 "nbformat_minor": 5
}
