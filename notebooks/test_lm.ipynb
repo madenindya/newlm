{
 "cells": [
  {
   "cell_type": "code",
   "execution_count": 1,
   "id": "apart-milan",
   "metadata": {},
   "outputs": [
    {
     "name": "stderr",
     "output_type": "stream",
     "text": [
      "Some weights of BertModel were not initialized from the model checkpoint at ../outputs/trial1 and are newly initialized: ['bert.pooler.dense.weight', 'bert.pooler.dense.bias']\n",
      "You should probably TRAIN this model on a down-stream task to be able to use it for predictions and inference.\n"
     ]
    }
   ],
   "source": [
    "from transformers import pipeline\n",
    "\n",
    "fill_mask = pipeline(\n",
    "    \"fill-mask\",\n",
    "    model=\"../outputs/trial1\",\n",
    "    tokenizer=\"../outputs/trial1\"\n",
    ")"
   ]
  },
  {
   "cell_type": "code",
   "execution_count": 2,
   "id": "essential-shift",
   "metadata": {},
   "outputs": [
    {
     "data": {
      "text/plain": [
       "[{'sequence': 'ekonomi, pada tahun 2012.',\n",
       "  'score': 0.06351911276578903,\n",
       "  'token': 13,\n",
       "  'token_str': ','},\n",
       " {'sequence': 'ekonomi. pada tahun 2012.',\n",
       "  'score': 0.033717699348926544,\n",
       "  'token': 15,\n",
       "  'token_str': '.'},\n",
       " {'sequence': 'ekonomi di pada tahun 2012.',\n",
       "  'score': 0.010621698573231697,\n",
       "  'token': 108,\n",
       "  'token_str': 'di'},\n",
       " {'sequence': 'ekonomi yang pada tahun 2012.',\n",
       "  'score': 0.010545801371335983,\n",
       "  'token': 122,\n",
       "  'token_str': 'yang'},\n",
       " {'sequence': 'ekonomi dan pada tahun 2012.',\n",
       "  'score': 0.005770971532911062,\n",
       "  'token': 123,\n",
       "  'token_str': 'dan'}]"
      ]
     },
     "execution_count": 2,
     "metadata": {},
     "output_type": "execute_result"
    }
   ],
   "source": [
    "fill_mask(\"ekonomi [MASK] pada tahun 2012.\")"
   ]
  }
 ],
 "metadata": {
  "kernelspec": {
   "display_name": "Python 3",
   "language": "python",
   "name": "python3"
  },
  "language_info": {
   "codemirror_mode": {
    "name": "ipython",
    "version": 3
   },
   "file_extension": ".py",
   "mimetype": "text/x-python",
   "name": "python",
   "nbconvert_exporter": "python",
   "pygments_lexer": "ipython3",
   "version": "3.8.5"
  }
 },
 "nbformat": 4,
 "nbformat_minor": 5
}
