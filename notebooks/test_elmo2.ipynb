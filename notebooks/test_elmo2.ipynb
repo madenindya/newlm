{
 "cells": [
  {
   "cell_type": "code",
   "execution_count": 1,
   "id": "ed63d91a-2954-4452-82ff-baa3d11b69e3",
   "metadata": {},
   "outputs": [
    {
     "name": "stdout",
     "output_type": "stream",
     "text": [
      "/mnt/data3/haryoaw_workspace/projects/2021/2021_2/new-lm/newlm\n"
     ]
    }
   ],
   "source": [
    "%cd .."
   ]
  },
  {
   "cell_type": "code",
   "execution_count": 2,
   "id": "7e570a24-bb32-4bca-92a9-bc98644a313c",
   "metadata": {},
   "outputs": [],
   "source": [
    "%load_ext autoreload\n",
    "%autoreload 2"
   ]
  },
  {
   "cell_type": "code",
   "execution_count": 3,
   "id": "a9bb7e14-a8d3-4fff-b7e9-73e766a6f829",
   "metadata": {},
   "outputs": [],
   "source": [
    "from newlm.lm.elmo.modeling_elmo.elmo_for_classification import ELMOForSequenceClassification, ELMOGPTHeadModel"
   ]
  },
  {
   "cell_type": "code",
   "execution_count": 4,
   "id": "3c70b5dd-34ae-406b-bf5a-81ec38bd5041",
   "metadata": {},
   "outputs": [
    {
     "name": "stderr",
     "output_type": "stream",
     "text": [
      "Some weights of ELMOForSequenceClassification were not initialized from the model checkpoint at ../coba/ and are newly initialized: ['score.weight']\n",
      "You should probably TRAIN this model on a down-stream task to be able to use it for predictions and inference.\n"
     ]
    }
   ],
   "source": [
    "test = ELMOForSequenceClassification.from_pretrained('../coba/')"
   ]
  },
  {
   "cell_type": "code",
   "execution_count": 5,
   "id": "0c90c542-c251-4114-81d3-a34e2edbb1c7",
   "metadata": {},
   "outputs": [],
   "source": [
    "test_gpt = ELMOGPTHeadModel.from_pretrained('../coba/')"
   ]
  },
  {
   "cell_type": "code",
   "execution_count": 6,
   "id": "738cffa7-af5d-433c-a5df-582fd3ed81de",
   "metadata": {},
   "outputs": [
    {
     "data": {
      "text/plain": [
       "tensor([ 0.0403,  0.0151, -0.0017, -0.0265, -0.0128], grad_fn=<SliceBackward>)"
      ]
     },
     "execution_count": 6,
     "metadata": {},
     "output_type": "execute_result"
    }
   ],
   "source": [
    "test.elmo.l2r_gpt.transformer.h[0].mlp.c_fc.weight[0,0:5]"
   ]
  },
  {
   "cell_type": "code",
   "execution_count": 7,
   "id": "6339561d-c6ea-4fce-b3b2-7285a760edff",
   "metadata": {},
   "outputs": [
    {
     "data": {
      "text/plain": [
       "tensor([ 0.0403,  0.0151, -0.0017, -0.0265, -0.0128], grad_fn=<SliceBackward>)"
      ]
     },
     "execution_count": 7,
     "metadata": {},
     "output_type": "execute_result"
    }
   ],
   "source": [
    "test_gpt.l2r_gpt.transformer.h[0].mlp.c_fc.weight[0,0:5]"
   ]
  },
  {
   "cell_type": "code",
   "execution_count": 8,
   "id": "1a0f5bcc-f82b-4af4-89a6-d5c23a7387af",
   "metadata": {},
   "outputs": [
    {
     "data": {
      "text/plain": [
       "True"
      ]
     },
     "execution_count": 8,
     "metadata": {},
     "output_type": "execute_result"
    }
   ],
   "source": [
    "test.l2r_gpt is test.elmo.l2r_gpt"
   ]
  },
  {
   "cell_type": "code",
   "execution_count": 9,
   "id": "fab199a4-a87c-4002-8efa-c36b97e2b9a4",
   "metadata": {},
   "outputs": [],
   "source": [
    "from transformers import GPT2Config"
   ]
  },
  {
   "cell_type": "code",
   "execution_count": 10,
   "id": "107d598f-508b-46ba-9bfe-64a5b4244e2f",
   "metadata": {},
   "outputs": [],
   "source": [
    "from transformers import GPT2Tokenizer"
   ]
  },
  {
   "cell_type": "code",
   "execution_count": 11,
   "id": "9a8e240f-55a4-43d7-bb7c-04d1af5745e8",
   "metadata": {},
   "outputs": [],
   "source": [
    "tokenizer = GPT2Tokenizer.from_pretrained('gpt2')"
   ]
  },
  {
   "cell_type": "code",
   "execution_count": 12,
   "id": "d9e68ae5-7866-4954-8b95-841b77b5dec8",
   "metadata": {},
   "outputs": [
    {
     "data": {
      "text/plain": [
       "1"
      ]
     },
     "execution_count": 12,
     "metadata": {},
     "output_type": "execute_result"
    }
   ],
   "source": [
    "tokenizer.add_special_tokens({'pad_token': '[PAD]'})"
   ]
  },
  {
   "cell_type": "code",
   "execution_count": 13,
   "id": "80cb8814-e224-43e9-8a9c-7428e204ba92",
   "metadata": {},
   "outputs": [
    {
     "data": {
      "text/plain": [
       "50257"
      ]
     },
     "execution_count": 13,
     "metadata": {},
     "output_type": "execute_result"
    }
   ],
   "source": [
    "tokenizer.pad_token_id"
   ]
  },
  {
   "cell_type": "code",
   "execution_count": 14,
   "id": "614b2065-053e-48f6-92cd-f82217d984eb",
   "metadata": {},
   "outputs": [],
   "source": [
    "config = GPT2Config(vocab_size=55000, pad_token_id=tokenizer.pad_token_id)"
   ]
  },
  {
   "cell_type": "code",
   "execution_count": 15,
   "id": "1a51fc99-8684-45f0-9914-89ba6cc580c8",
   "metadata": {},
   "outputs": [
    {
     "data": {
      "text/plain": [
       "50257"
      ]
     },
     "execution_count": 15,
     "metadata": {},
     "output_type": "execute_result"
    }
   ],
   "source": [
    "config.pad_token_id"
   ]
  },
  {
   "cell_type": "code",
   "execution_count": 16,
   "id": "73de1f03-381d-4af7-99f4-166bb35ce6cd",
   "metadata": {},
   "outputs": [],
   "source": [
    "elmo_model = ELMOForSequenceClassification(config)"
   ]
  },
  {
   "cell_type": "code",
   "execution_count": 18,
   "id": "29748377-38af-42b3-bafd-7cb8e9923446",
   "metadata": {},
   "outputs": [],
   "source": [
    "batch = tokenizer.batch_encode_plus(['my name is haryo', 'i am a student'], return_tensors='pt', padding=True)"
   ]
  },
  {
   "cell_type": "code",
   "execution_count": 22,
   "id": "a750b8d0-d47c-4a81-93ac-47cad6b70ef8",
   "metadata": {},
   "outputs": [],
   "source": [
    "import torch"
   ]
  },
  {
   "cell_type": "code",
   "execution_count": 24,
   "id": "d5d83174-7d7c-483a-85dc-e13a7740b9f5",
   "metadata": {},
   "outputs": [
    {
     "data": {
      "text/plain": [
       "SequenceClassifierOutput(loss=tensor(1.0935, grad_fn=<NllLossBackward>), logits=tensor([[-0.3167,  0.2907],\n",
       "        [-0.3131,  0.4485]], grad_fn=<MmBackward>), hidden_states=tensor([[ 0.0369,  0.6415, -0.4960,  ...,  1.2828,  0.5103,  0.1238],\n",
       "        [-1.1578,  0.3099,  0.5225,  ...,  2.3242, -0.8783,  0.7260]],\n",
       "       grad_fn=<CatBackward>), attentions=None)"
      ]
     },
     "execution_count": 24,
     "metadata": {},
     "output_type": "execute_result"
    }
   ],
   "source": [
    "elmo_model(**batch, labels=torch.LongTensor([0,0]))"
   ]
  },
  {
   "cell_type": "code",
   "execution_count": null,
   "id": "aaa7e18d-66fb-46b7-b58b-a77d96488d72",
   "metadata": {},
   "outputs": [],
   "source": []
  }
 ],
 "metadata": {
  "kernelspec": {
   "display_name": "New LM",
   "language": "python",
   "name": "newlm"
  },
  "language_info": {
   "codemirror_mode": {
    "name": "ipython",
    "version": 3
   },
   "file_extension": ".py",
   "mimetype": "text/x-python",
   "name": "python",
   "nbconvert_exporter": "python",
   "pygments_lexer": "ipython3",
   "version": "3.8.8"
  }
 },
 "nbformat": 4,
 "nbformat_minor": 5
}
